{
 "cells": [
  {
   "cell_type": "markdown",
   "id": "f1c2a37f-449d-4360-bdfd-4273ac59b0d7",
   "metadata": {},
   "source": [
    "1. Variable Swap: Write a Python program to swap the values of two variables without using a temporary variable."
   ]
  },
  {
   "cell_type": "code",
   "execution_count": 1,
   "id": "ee115999-a771-4d50-ae6c-0e567ba0f5c1",
   "metadata": {},
   "outputs": [
    {
     "name": "stdin",
     "output_type": "stream",
     "text": [
      " 5\n",
      " 6\n"
     ]
    },
    {
     "name": "stdout",
     "output_type": "stream",
     "text": [
      "X = 6 Y = 5\n"
     ]
    }
   ],
   "source": [
    "x=int(input())\n",
    "y=int(input())\n",
    "x=x^y\n",
    "y=x^y\n",
    "x=x^y\n",
    "print(\"X =\",x,\"Y =\",y)"
   ]
  },
  {
   "cell_type": "markdown",
   "id": "daecb004-21d6-4bff-87bc-3ad5abdb9e32",
   "metadata": {},
   "source": [
    "2. Even or Odd: Write a Python program that takes an integer as input and prints whether it is even or odd."
   ]
  },
  {
   "cell_type": "code",
   "execution_count": 2,
   "id": "cd46c93d-8494-4df7-bfe6-721105b327f0",
   "metadata": {},
   "outputs": [
    {
     "name": "stdin",
     "output_type": "stream",
     "text": [
      " 5\n"
     ]
    },
    {
     "name": "stdout",
     "output_type": "stream",
     "text": [
      "5 is an odd number\n"
     ]
    }
   ],
   "source": [
    "x = int(input())\n",
    "if x % 2 == 0:\n",
    "    print (x,\"is an even number\")\n",
    "else:\n",
    "    print (x,\"is an odd number\")"
   ]
  },
  {
   "cell_type": "markdown",
   "id": "1a4f8196-47cc-482f-ab0a-b781e302272c",
   "metadata": {},
   "source": [
    "3. String Reverse: Write a Python function to reverse a given string and return the reversed string."
   ]
  },
  {
   "cell_type": "code",
   "execution_count": 3,
   "id": "169323df-9d05-4f36-b0f0-aa3877a62dab",
   "metadata": {},
   "outputs": [
    {
     "name": "stdin",
     "output_type": "stream",
     "text": [
      " flower\n"
     ]
    },
    {
     "name": "stdout",
     "output_type": "stream",
     "text": [
      "rewolf\n"
     ]
    }
   ],
   "source": [
    "def rev(s):\n",
    "    rs = s[::-1]\n",
    "    return rs\n",
    "s = input()\n",
    "print(rev(s))  "
   ]
  },
  {
   "cell_type": "markdown",
   "id": "e788e7ff-1ce8-42b8-9ca3-2628c432454a",
   "metadata": {},
   "source": [
    "4. Type Conversion: Given a list of integers, write a Python program to convert each element of the list to a string."
   ]
  },
  {
   "cell_type": "code",
   "execution_count": 4,
   "id": "db78733f-3751-4e07-89f6-be33ed5bbe3a",
   "metadata": {},
   "outputs": [
    {
     "name": "stdout",
     "output_type": "stream",
     "text": [
      "['1', '2', '3', '4', '5', '6']\n"
     ]
    }
   ],
   "source": [
    "x = [1, 2, 3, 4, 5, 6]\n",
    "s = [str(i) for i in x]\n",
    "print (s)"
   ]
  },
  {
   "cell_type": "markdown",
   "id": "49c84f00-0045-4b4d-bf5c-7a723ae1f36f",
   "metadata": {},
   "source": [
    "5. Temperature Converter: Write a Python program that converts a temperature in Celsius to Fahrenheit. Take the Celsius temperature as input from the user."
   ]
  },
  {
   "cell_type": "code",
   "execution_count": 5,
   "id": "d4cf9ed6-0192-4a13-b551-e9d765a29aa4",
   "metadata": {},
   "outputs": [
    {
     "name": "stdin",
     "output_type": "stream",
     "text": [
      " 5\n"
     ]
    },
    {
     "name": "stdout",
     "output_type": "stream",
     "text": [
      "41.0\n"
     ]
    }
   ],
   "source": [
    "c= int(input())\n",
    "f = (c * 9/5) + 32\n",
    "print(f)"
   ]
  },
  {
   "cell_type": "markdown",
   "id": "fd92b556-7d73-4e55-8d53-9a0c6c0b13c3",
   "metadata": {},
   "source": [
    "6. Data Type Checker: Write a Python function that takes a variable as input and returns the data type of the variable as a string (e.g., “int”, “float”, “str”, “list”, etc.)."
   ]
  },
  {
   "cell_type": "code",
   "execution_count": 6,
   "id": "d25b45c1-ddea-4ffb-9258-f8000a0725bd",
   "metadata": {},
   "outputs": [
    {
     "name": "stdout",
     "output_type": "stream",
     "text": [
      "[2.5, 21, True, (12+3j), 'ABC', {1: 2, 3: 4, 5: 6}, [1, 5, 2], (1, 2, 3), {1, 2}]\n",
      "float, int, bool, complex, str, dict, list, tuple, set, "
     ]
    }
   ],
   "source": [
    "def fun(data):\n",
    "    return type(data).__name__\n",
    "\n",
    "data = [2.5, 21,True, 12+3j,'ABC',{1:2,3:4,5:6}, [1,5,2], (1,2,3), {1,2}]\n",
    "print(data)\n",
    "for i in data:\n",
    "    print(fun(i),end=', ')"
   ]
  },
  {
   "cell_type": "markdown",
   "id": "c5430830-0550-4a6a-bf7c-e71955559ccd",
   "metadata": {},
   "source": [
    "7. String Palindrome: Write a Python function to check if a given string is a palindrome or not."
   ]
  },
  {
   "cell_type": "code",
   "execution_count": 7,
   "id": "ac36f548-a536-436c-b035-1de6e5e186ab",
   "metadata": {},
   "outputs": [
    {
     "name": "stdin",
     "output_type": "stream",
     "text": [
      " baba\n"
     ]
    },
    {
     "name": "stdout",
     "output_type": "stream",
     "text": [
      "The string is not a Palindrome\n"
     ]
    }
   ],
   "source": [
    "def isP(s):\n",
    "    if s==s[::-1]:\n",
    "        return \"The string is a Palindrome\"\n",
    "    else:\n",
    "        return \"The string is not a Palindrome\"\n",
    "s=input()\n",
    "print (isP(s))"
   ]
  },
  {
   "cell_type": "markdown",
   "id": "ccdfde0b-7073-45ad-ba24-22712704169f",
   "metadata": {},
   "source": [
    "8. String Reversal with Slicing: Write a Python function to reverse a given string using slicing."
   ]
  },
  {
   "cell_type": "code",
   "execution_count": 8,
   "id": "d7f9f4e4-ff13-49ff-9e9d-8d740c61b5fa",
   "metadata": {},
   "outputs": [
    {
     "name": "stdin",
     "output_type": "stream",
     "text": [
      " key\n"
     ]
    },
    {
     "name": "stdout",
     "output_type": "stream",
     "text": [
      "yek\n"
     ]
    }
   ],
   "source": [
    "def rev(str):\n",
    "    s=str[::-1]\n",
    "    return s\n",
    "s=input()\n",
    "print(rev(s))"
   ]
  },
  {
   "cell_type": "markdown",
   "id": "9976d94d-6626-4700-bb6a-34bbd7989140",
   "metadata": {},
   "source": [
    "9. String Concatenation: Write a Python program that takes two strings as input and concatenates them into a single string without using the `+` operator."
   ]
  },
  {
   "cell_type": "code",
   "execution_count": 9,
   "id": "02d86d50-9bf8-4a2a-afd2-3475dacadb89",
   "metadata": {},
   "outputs": [
    {
     "name": "stdin",
     "output_type": "stream",
     "text": [
      " hello\n",
      " world\n"
     ]
    },
    {
     "name": "stdout",
     "output_type": "stream",
     "text": [
      "helloworld\n"
     ]
    }
   ],
   "source": [
    "def concat(s1,s2):\n",
    "    return \"\".join([s1,s2])\n",
    "s1 = input()\n",
    "s2 = input()\n",
    "c = concat(s1, s2)\n",
    "print(c)"
   ]
  },
  {
   "cell_type": "markdown",
   "id": "a00a72af-ecbf-4994-ae0a-b2bc998993a7",
   "metadata": {},
   "source": [
    "10. Typecasting Challenge: Given three variables: `a = ‘100’`, `b = 25`, and `c = ‘10.5’`, write a Python program to perform the following operations and print the results: – Convert `a` to an integer and add it to `b`. – Convert `c` to a float and subtract it from the result of the first operation. – Convert the final result to a string and concatenate it with the string ” is the answer.”"
   ]
  },
  {
   "cell_type": "code",
   "execution_count": 10,
   "id": "1a826556-046e-4336-bb6b-8b312a3e431a",
   "metadata": {},
   "outputs": [
    {
     "name": "stdout",
     "output_type": "stream",
     "text": [
      "114.5 is the answer\n"
     ]
    }
   ],
   "source": [
    "a = 100\n",
    "b = 25\n",
    "c = 10.5\n",
    "x = int(a) + b\n",
    "y = x - float(c)\n",
    "s = str(y)\n",
    "print(\" \".join([s,\"is the answer\"]))"
   ]
  },
  {
   "cell_type": "markdown",
   "id": "7a622f6d-bcde-4893-94d7-7105ab50c463",
   "metadata": {},
   "source": [
    "11. Positive, Negative, or Zero: Write a Python program that takes a number as input and prints whether it is positive, negative, or zero."
   ]
  },
  {
   "cell_type": "code",
   "execution_count": 11,
   "id": "a950ccab-2b5e-40f2-8078-a05acc31840d",
   "metadata": {},
   "outputs": [
    {
     "name": "stdin",
     "output_type": "stream",
     "text": [
      " 7\n"
     ]
    },
    {
     "name": "stdout",
     "output_type": "stream",
     "text": [
      "The number is positive\n"
     ]
    }
   ],
   "source": [
    "def fun(x):\n",
    "    if x == 0:\n",
    "        return \"The number is zero\"\n",
    "    elif x > 0:\n",
    "        return \"The number is positive\"\n",
    "    else:\n",
    "        return \"The number is negative\"\n",
    "x = float(input())\n",
    "xx = fun(x) \n",
    "print(xx)"
   ]
  },
  {
   "cell_type": "markdown",
   "id": "eb089bdc-9e4b-4671-bf1c-5d1989b9953a",
   "metadata": {},
   "source": [
    "12. Largest of Three Numbers: Write a Python program that takes three numbers as input and prints the largest among them."
   ]
  },
  {
   "cell_type": "code",
   "execution_count": 12,
   "id": "47b7e399-2eeb-4acf-8b3f-2eb9f4b04201",
   "metadata": {},
   "outputs": [
    {
     "name": "stdin",
     "output_type": "stream",
     "text": [
      " 3\n",
      " 9\n",
      " 1\n"
     ]
    },
    {
     "name": "stdout",
     "output_type": "stream",
     "text": [
      "9\n"
     ]
    }
   ],
   "source": [
    "n1 = int(input())\n",
    "n2 = int(input())\n",
    "n3 = int(input())\n",
    "\n",
    "if(n1 >= n2) and (n1 >= n3):\n",
    "    print(n1)\n",
    "elif(n2 >= n1) and (n2 >= n3):\n",
    "    print(n2)\n",
    "else:\n",
    "    print(n3)"
   ]
  },
  {
   "cell_type": "markdown",
   "id": "80a736f6-9fd5-4e19-baab-88e26f528eb9",
   "metadata": {},
   "source": [
    "13. Leap Year Checker: Write a Python program that takes a year as input and determines if it is a leap year or not."
   ]
  },
  {
   "cell_type": "code",
   "execution_count": 13,
   "id": "45aeeb50-f645-471f-9243-fb035f164a21",
   "metadata": {},
   "outputs": [
    {
     "name": "stdin",
     "output_type": "stream",
     "text": [
      " 2024\n"
     ]
    },
    {
     "name": "stdout",
     "output_type": "stream",
     "text": [
      "2024  is a leap year\n"
     ]
    }
   ],
   "source": [
    "y = int(input())\n",
    "if(y %4 == 0 and y % 100 != 0) or (y % 400 == 0):\n",
    "    print(y,\" is a leap year\")\n",
    "else:\n",
    "    print(y,\"is not a leap year\")"
   ]
  },
  {
   "cell_type": "markdown",
   "id": "62b7ac41-a6a6-44bb-9858-abbd72754886",
   "metadata": {},
   "source": [
    "14. Grades Classification: Write a Python program that takes a student’s percentage as input and prints their corresponding grade according to the following criteria: – 90% or above: A+ – 80-89%: A – 70-79%: B – 60-69%: C – Below 60%: Fail"
   ]
  },
  {
   "cell_type": "code",
   "execution_count": 14,
   "id": "b41dc5f1-22f6-4158-bc4d-27d1b9c40190",
   "metadata": {},
   "outputs": [
    {
     "name": "stdin",
     "output_type": "stream",
     "text": [
      " 80\n"
     ]
    },
    {
     "name": "stdout",
     "output_type": "stream",
     "text": [
      "The grade is  A\n"
     ]
    }
   ],
   "source": [
    "p = int(input())\n",
    "if p>= 90:\n",
    "    grade = 'A+'\n",
    "elif p >= 80:\n",
    "    grade ='A'\n",
    "elif p >= 70:\n",
    "    grade = 'B'\n",
    "elif p >= 60:\n",
    "    grade = 'C'\n",
    "else:\n",
    "    grade = 'F'\n",
    "print(\"The grade is \",grade)"
   ]
  },
  {
   "cell_type": "markdown",
   "id": "3aada27a-9695-416e-b799-b49ccb4b07ba",
   "metadata": {},
   "source": [
    "15. Vowel or Consonant: Write a Python program that takes a single character as input and determines whether it is a vowel or a consonant."
   ]
  },
  {
   "cell_type": "code",
   "execution_count": 15,
   "id": "c2e597a5-99a8-4c83-a7e1-157668450c7a",
   "metadata": {},
   "outputs": [
    {
     "name": "stdin",
     "output_type": "stream",
     "text": [
      " u\n"
     ]
    },
    {
     "name": "stdout",
     "output_type": "stream",
     "text": [
      "u is a vowel\n"
     ]
    }
   ],
   "source": [
    "ch = input()\n",
    "if ch == 'a' or ch == 'A' or ch == 'e' or ch == 'E' or ch == 'i' or ch == 'I'or ch == 'o' or ch == 'O' or ch == 'u' or ch == 'U':\n",
    "    print(ch, \"is a vowel\")\n",
    "else:\n",
    "    print(ch,\"is a consonant\")"
   ]
  },
  {
   "cell_type": "markdown",
   "id": "c188a32e-bd56-4e83-a2aa-6dd9ed3c7713",
   "metadata": {},
   "source": [
    "16. Time Classification: Write a Python program that takes the time in hours (24-hour format) as input and prints “Good Morning”, “Good Afternoon”, “Good Evening”, or “Good Night” based on the time."
   ]
  },
  {
   "cell_type": "code",
   "execution_count": 16,
   "id": "d8d37470-b6c2-474e-bbd7-cb0646259d8e",
   "metadata": {},
   "outputs": [
    {
     "name": "stdin",
     "output_type": "stream",
     "text": [
      " 12\n"
     ]
    },
    {
     "name": "stdout",
     "output_type": "stream",
     "text": [
      "Good Afternoon\n"
     ]
    }
   ],
   "source": [
    "h = int(input())\n",
    "if h >= 5 and h < 12:\n",
    "    print('Good Morning')\n",
    "elif h >= 12 and h < 17:\n",
    "    print('Good Afternoon')\n",
    "elif h >= 17 and h <21:\n",
    "    print('Good Evening')\n",
    "else:\n",
    "    print('Good Night')\n",
    "    "
   ]
  },
  {
   "cell_type": "markdown",
   "id": "c7dbbc94-18a5-4875-a7c9-a31343eb8beb",
   "metadata": {},
   "source": [
    "17. Triangle Type Checker: Write a Python program that takes three sides of a triangle as input and determines whether it forms an equilateral, isosceles, or scalene triangle."
   ]
  },
  {
   "cell_type": "code",
   "execution_count": 17,
   "id": "1751f901-a1ca-4de6-99d3-8f620ddd1ab3",
   "metadata": {},
   "outputs": [
    {
     "name": "stdin",
     "output_type": "stream",
     "text": [
      " 4\n",
      " 6\n",
      " 8\n"
     ]
    },
    {
     "data": {
      "text/plain": [
       "'Scalene Triangle'"
      ]
     },
     "execution_count": 17,
     "metadata": {},
     "output_type": "execute_result"
    }
   ],
   "source": [
    "def triangle(x, y, z):\n",
    "    if x + y > z and y + z > x and z + x > y:\n",
    "        if x == y and y == z:\n",
    "            return \"Equilateral Triangle\"\n",
    "        elif x == y or y == z or z == x:\n",
    "            return \"Isosceles Triangle\"\n",
    "        else:\n",
    "            return \"Scalene Triangle\"\n",
    "    else:\n",
    "        return \"These sides cannot form a triangle.\"\n",
    "\n",
    "a = float(input())\n",
    "b = float(input())\n",
    "c = float(input())\n",
    "triangle(a, b, c)"
   ]
  },
  {
   "cell_type": "markdown",
   "id": "10640778-6a61-408b-97c3-716ea0303a2e",
   "metadata": {},
   "source": [
    "18. Quadratic Equation Solver: Write a Python program that takes the coefficients (a, b, c) of a quadratic equation as input and calculates and prints the real roots (if they exist) or a message indicating the complex roots."
   ]
  },
  {
   "cell_type": "code",
   "execution_count": 18,
   "id": "473f8faf-b5fc-4738-a818-0d12d7051e22",
   "metadata": {},
   "outputs": [
    {
     "name": "stdin",
     "output_type": "stream",
     "text": [
      "Enter coefficient a:  9\n",
      "Enter coefficient b:  11\n",
      "Enter coefficient c:  8\n"
     ]
    },
    {
     "name": "stdout",
     "output_type": "stream",
     "text": [
      "The solutions are (-0.6111111111111112-0.717935999073338j) and (-0.6111111111111112+0.717935999073338j)\n"
     ]
    }
   ],
   "source": [
    "import cmath\n",
    "\n",
    "a = int(input(\"Enter coefficient a: \"))\n",
    "b = int(input(\"Enter coefficient b: \"))\n",
    "c = int(input(\"Enter coefficient c: \"))\n",
    "\n",
    "d = (b**2) - (4*a*c)\n",
    "\n",
    "r1= (-b - cmath.sqrt(d)) / (2*a)\n",
    "r2 = (-b + cmath.sqrt(d)) / (2*a)\n",
    "\n",
    "print('The solutions are {0} and {1}'.format(r1, r2))"
   ]
  },
  {
   "cell_type": "markdown",
   "id": "04c5f588-00d5-4577-a7ce-2b6b18fe0663",
   "metadata": {},
   "source": [
    "19. Number Ranges: Write a Python program that takes an integer as input and prints whether the number falls within the ranges: 0-50, 51-100, 101-150, or above 150."
   ]
  },
  {
   "cell_type": "code",
   "execution_count": 19,
   "id": "ae126c7e-9729-498e-a602-c0fd2251ef88",
   "metadata": {},
   "outputs": [
    {
     "name": "stdin",
     "output_type": "stream",
     "text": [
      "Type number:  60\n"
     ]
    },
    {
     "name": "stdout",
     "output_type": "stream",
     "text": [
      "Range: 51-100\n"
     ]
    }
   ],
   "source": [
    "number = int(input('Type number: '))\n",
    "if number > 0 and number <= 50:\n",
    "    print('Range: 0-50')\n",
    "elif number>50 and number<=100:\n",
    "    print('Range: 51-100')\n",
    "elif number>100 and number<=150:\n",
    "    print('Range: 101-150')\n",
    "elif number>150:\n",
    "    print('Range: above 150')\n",
    "else:\n",
    "    print('Invalid Range')"
   ]
  },
  {
   "cell_type": "markdown",
   "id": "603c9834-c0c1-453e-aa99-4c259f696c16",
   "metadata": {},
   "source": [
    "20. Sum of N Numbers: Write a Python program using a for loop to calculate the sum of the first N natural numbers, where N is taken as input from the user."
   ]
  },
  {
   "cell_type": "code",
   "execution_count": 20,
   "id": "09fdf43f-e598-466b-8944-b9b4b3e4652c",
   "metadata": {},
   "outputs": [
    {
     "name": "stdin",
     "output_type": "stream",
     "text": [
      " 4\n"
     ]
    },
    {
     "name": "stdout",
     "output_type": "stream",
     "text": [
      "10\n"
     ]
    }
   ],
   "source": [
    "N = int(input())\n",
    "s = 0\n",
    "for i in range(1, N+1):\n",
    "    s = s + i\n",
    "print(s)"
   ]
  },
  {
   "cell_type": "markdown",
   "id": "c4765713-be93-408c-b4c1-263fd3df23bd",
   "metadata": {},
   "source": [
    "21. Factorial Calculator: Write a Python program using a while loop to calculate the factorial of a given number N."
   ]
  },
  {
   "cell_type": "code",
   "execution_count": 21,
   "id": "9736b9dd-c264-4960-bb54-533635671d0a",
   "metadata": {},
   "outputs": [
    {
     "name": "stdout",
     "output_type": "stream",
     "text": [
      "120\n"
     ]
    }
   ],
   "source": [
    "n = 5\n",
    "fact = 1\n",
    "while n>0:\n",
    "    fact*=n\n",
    "    n-=1\n",
    "print(fact)"
   ]
  },
  {
   "cell_type": "markdown",
   "id": "0b7e0fba-7c7b-4645-a4d6-9c20e24d0c12",
   "metadata": {},
   "source": [
    "22. Table of a Number: Write a Python program using a for loop to print the multiplication table of a given number N."
   ]
  },
  {
   "cell_type": "code",
   "execution_count": 22,
   "id": "c8e1bdb2-c492-45ba-8c9e-f9a627e3ef74",
   "metadata": {},
   "outputs": [
    {
     "name": "stdin",
     "output_type": "stream",
     "text": [
      " 4\n"
     ]
    },
    {
     "name": "stdout",
     "output_type": "stream",
     "text": [
      "4 x 1 = 4\n",
      "4 x 2 = 8\n",
      "4 x 3 = 12\n",
      "4 x 4 = 16\n",
      "4 x 5 = 20\n",
      "4 x 6 = 24\n",
      "4 x 7 = 28\n",
      "4 x 8 = 32\n",
      "4 x 9 = 36\n",
      "4 x 10 = 40\n"
     ]
    }
   ],
   "source": [
    "num=int(input())\n",
    "for i in range(1,11):\n",
    "    print(f\"{num} x {i} = {num * i}\")"
   ]
  },
  {
   "cell_type": "markdown",
   "id": "f638ea8d-ca1f-48a3-b7b7-a67a17d7a906",
   "metadata": {},
   "source": [
    "23. Count Digits in a Number: Write a Python program using a while loop to count the number of digits in a given integer N."
   ]
  },
  {
   "cell_type": "code",
   "execution_count": 23,
   "id": "c4874521-8d34-43d7-8711-3f6eba15ad34",
   "metadata": {},
   "outputs": [
    {
     "name": "stdin",
     "output_type": "stream",
     "text": [
      " 3436\n"
     ]
    },
    {
     "name": "stdout",
     "output_type": "stream",
     "text": [
      "Number of digits: 4\n"
     ]
    }
   ],
   "source": [
    "def count_digits(N):\n",
    "    n = str(N)\n",
    "    count = 0\n",
    "    for i in range(len(n)):\n",
    "        count += 1 \n",
    "    return count\n",
    "\n",
    "N = int(input())\n",
    "print(\"Number of digits:\", count_digits(N))"
   ]
  },
  {
   "cell_type": "markdown",
   "id": "54ea2b52-dc81-4793-b486-62033aa7392c",
   "metadata": {},
   "source": [
    "24. Fibonacci Sequence: Write a Python program using a for loop to generate the Fibonacci sequence up to a given limit N."
   ]
  },
  {
   "cell_type": "code",
   "execution_count": 24,
   "id": "487414ec-0512-457a-bbda-49f37da902bb",
   "metadata": {},
   "outputs": [
    {
     "name": "stdin",
     "output_type": "stream",
     "text": [
      " 5\n"
     ]
    },
    {
     "name": "stdout",
     "output_type": "stream",
     "text": [
      "0 1 1 2 3 "
     ]
    }
   ],
   "source": [
    "import math\n",
    "def fibo(pi, n):\n",
    "    for i in range(0, n):\n",
    "        res = round(pow(pi, i) / math.sqrt(5))\n",
    "        print(res, end=\" \")\n",
    " \n",
    "N = int(input())\n",
    "pi = (1 + math.sqrt(5)) / 2\n",
    "fibo(pi, N)   "
   ]
  },
  {
   "cell_type": "markdown",
   "id": "4ff8be8c-d3cd-44fa-8f9e-7f8bab660c25",
   "metadata": {},
   "source": [
    "25. Sum of Even Numbers: Write a Python program using a while loop to calculate the sum of all even numbers between 1 and N, where N is taken as input from the user."
   ]
  },
  {
   "cell_type": "code",
   "execution_count": 25,
   "id": "2cccfd3e-3425-4524-944c-bf4a732c12d6",
   "metadata": {},
   "outputs": [
    {
     "name": "stdin",
     "output_type": "stream",
     "text": [
      " 4\n"
     ]
    },
    {
     "name": "stdout",
     "output_type": "stream",
     "text": [
      "6\n"
     ]
    }
   ],
   "source": [
    "def even_sum(num):\n",
    "    sum = 0\n",
    "    n = 1\n",
    "    while(n <= num):\n",
    "        if(n % 2 == 0):\n",
    "            sum = sum + n\n",
    "        n = n + 1\n",
    "    return sum\n",
    "    \n",
    "num = int(input())\n",
    "print(even_sum(num)) "
   ]
  },
  {
   "cell_type": "markdown",
   "id": "a7e37bf4-4f6e-4743-821e-4a8a5c12ad9c",
   "metadata": {},
   "source": [
    "26. Print Patterns: Write a Python program using nested for loops to print various patterns, such as a right-angled triangle, an inverted right-angled triangle, and so on."
   ]
  },
  {
   "cell_type": "code",
   "execution_count": 26,
   "id": "d0859f3a-8518-41e5-a28e-401d7461f917",
   "metadata": {},
   "outputs": [
    {
     "name": "stdout",
     "output_type": "stream",
     "text": [
      "*\n",
      "**\n",
      "***\n",
      "****\n",
      "*****\n",
      "__________________\n",
      "*****\n",
      "****\n",
      "***\n",
      "**\n",
      "*\n",
      "__________________\n",
      "    *\n",
      "   **\n",
      "  ***\n",
      " ****\n",
      "*****\n",
      "__________________\n",
      "*****\n",
      " ****\n",
      "  ***\n",
      "   **\n",
      "    *\n"
     ]
    }
   ],
   "source": [
    "for i in range(1,6):\n",
    "    for j in range(1,i+1):\n",
    "        print('*',end='')\n",
    "    print()\n",
    "print('__________________')\n",
    "for i in range(1,6):\n",
    "    for j in range(1,7-i):\n",
    "        print('*',end='')\n",
    "    print()\n",
    "print('__________________')\n",
    "for i in range(1,6):\n",
    "    for j in range(1,6-i):\n",
    "        print(' ',end='')\n",
    "    for j in range(1,i+1):\n",
    "        print('*',end='')\n",
    "    print()\n",
    "print('__________________')\n",
    "for i in range(1,6):\n",
    "    for j in range(1,i):\n",
    "        print(' ',end='')\n",
    "    for j in range(1,7-i):\n",
    "        print('*',end='')\n",
    "    print()"
   ]
  },
  {
   "cell_type": "markdown",
   "id": "465540cd-94ca-47ef-b199-5609a03e4550",
   "metadata": {},
   "source": [
    "27. Prime Number Checker: Write a Python program using a while loop to check if a given number N is prime or not."
   ]
  },
  {
   "cell_type": "code",
   "execution_count": 27,
   "id": "a5bf5389-e217-48b0-89c6-daca3d62337c",
   "metadata": {},
   "outputs": [
    {
     "name": "stdin",
     "output_type": "stream",
     "text": [
      " 11\n"
     ]
    },
    {
     "name": "stdout",
     "output_type": "stream",
     "text": [
      "Prime Number\n"
     ]
    }
   ],
   "source": [
    "num = int(input())\n",
    "i = 2\n",
    "prime = True\n",
    "while i<num//2+1:\n",
    "    if num%i==0:\n",
    "        prime = False\n",
    "        break;\n",
    "    i+=1\n",
    "if prime:\n",
    "    print('Prime Number')\n",
    "else:\n",
    "    print('Not prime Number')"
   ]
  },
  {
   "cell_type": "markdown",
   "id": "bbc010e8-c85d-430f-a5f3-48f14b955c55",
   "metadata": {},
   "source": [
    "28. List Manipulation: Given a list of integers, write a Python program using a for loop to find the sum, average, maximum, and minimum values in the list."
   ]
  },
  {
   "cell_type": "code",
   "execution_count": 28,
   "id": "c4077bfe-abd9-4482-bf21-58dcbbb979c0",
   "metadata": {},
   "outputs": [
    {
     "name": "stdout",
     "output_type": "stream",
     "text": [
      "Sum:  133\n",
      "Average:  22.17\n",
      "Maximum:  60\n",
      "Minimum:  3\n"
     ]
    }
   ],
   "source": [
    "list = [12,3,7,9,42,60]\n",
    "sum = 0\n",
    "max = 0\n",
    "min = 99999\n",
    "l = len(list)\n",
    "for i in list:\n",
    "    sum +=i\n",
    "    if max <i:\n",
    "        max =i\n",
    "    if min >i:\n",
    "        min =i\n",
    "avg = sum /l\n",
    "print('Sum: ',sum)\n",
    "print('Average: ',round(avg, 2))\n",
    "print('Maximum: ',max)\n",
    "print('Minimum: ',min)"
   ]
  },
  {
   "cell_type": "markdown",
   "id": "a86cf533-fa69-40cd-8724-945fda93bab6",
   "metadata": {},
   "source": [
    "29. Reverse String: Write a Python program using a while loop to reverse a given string."
   ]
  },
  {
   "cell_type": "code",
   "execution_count": 29,
   "id": "6f74696f-57c0-4bda-93be-d26f5c778fc0",
   "metadata": {},
   "outputs": [
    {
     "name": "stdin",
     "output_type": "stream",
     "text": [
      " school\n"
     ]
    },
    {
     "name": "stdout",
     "output_type": "stream",
     "text": [
      "loohcs"
     ]
    }
   ],
   "source": [
    "strng = input()\n",
    "str_len = len(strng)-1\n",
    "while str_len>-1:\n",
    "    print(strng[str_len],end='')\n",
    "    str_len-=1"
   ]
  },
  {
   "cell_type": "markdown",
   "id": "83b672fe-ddcf-460f-8e7c-9a113d8927a1",
   "metadata": {},
   "source": [
    "30. Multiplication Table: Write a Python program using nested loops to print the multiplication table from 1 to 10."
   ]
  },
  {
   "cell_type": "code",
   "execution_count": 30,
   "id": "6a699c93-9bff-4047-b10b-5da34f1ee32a",
   "metadata": {},
   "outputs": [
    {
     "name": "stdout",
     "output_type": "stream",
     "text": [
      "1  X  1  =  1\n",
      "1  X  2  =  2\n",
      "1  X  3  =  3\n",
      "1  X  4  =  4\n",
      "1  X  5  =  5\n",
      "1  X  6  =  6\n",
      "1  X  7  =  7\n",
      "1  X  8  =  8\n",
      "1  X  9  =  9\n",
      "1  X  10  =  10\n",
      "\n",
      "2  X  1  =  2\n",
      "2  X  2  =  4\n",
      "2  X  3  =  6\n",
      "2  X  4  =  8\n",
      "2  X  5  =  10\n",
      "2  X  6  =  12\n",
      "2  X  7  =  14\n",
      "2  X  8  =  16\n",
      "2  X  9  =  18\n",
      "2  X  10  =  20\n",
      "\n",
      "3  X  1  =  3\n",
      "3  X  2  =  6\n",
      "3  X  3  =  9\n",
      "3  X  4  =  12\n",
      "3  X  5  =  15\n",
      "3  X  6  =  18\n",
      "3  X  7  =  21\n",
      "3  X  8  =  24\n",
      "3  X  9  =  27\n",
      "3  X  10  =  30\n",
      "\n",
      "4  X  1  =  4\n",
      "4  X  2  =  8\n",
      "4  X  3  =  12\n",
      "4  X  4  =  16\n",
      "4  X  5  =  20\n",
      "4  X  6  =  24\n",
      "4  X  7  =  28\n",
      "4  X  8  =  32\n",
      "4  X  9  =  36\n",
      "4  X  10  =  40\n",
      "\n",
      "5  X  1  =  5\n",
      "5  X  2  =  10\n",
      "5  X  3  =  15\n",
      "5  X  4  =  20\n",
      "5  X  5  =  25\n",
      "5  X  6  =  30\n",
      "5  X  7  =  35\n",
      "5  X  8  =  40\n",
      "5  X  9  =  45\n",
      "5  X  10  =  50\n",
      "\n",
      "6  X  1  =  6\n",
      "6  X  2  =  12\n",
      "6  X  3  =  18\n",
      "6  X  4  =  24\n",
      "6  X  5  =  30\n",
      "6  X  6  =  36\n",
      "6  X  7  =  42\n",
      "6  X  8  =  48\n",
      "6  X  9  =  54\n",
      "6  X  10  =  60\n",
      "\n",
      "7  X  1  =  7\n",
      "7  X  2  =  14\n",
      "7  X  3  =  21\n",
      "7  X  4  =  28\n",
      "7  X  5  =  35\n",
      "7  X  6  =  42\n",
      "7  X  7  =  49\n",
      "7  X  8  =  56\n",
      "7  X  9  =  63\n",
      "7  X  10  =  70\n",
      "\n",
      "8  X  1  =  8\n",
      "8  X  2  =  16\n",
      "8  X  3  =  24\n",
      "8  X  4  =  32\n",
      "8  X  5  =  40\n",
      "8  X  6  =  48\n",
      "8  X  7  =  56\n",
      "8  X  8  =  64\n",
      "8  X  9  =  72\n",
      "8  X  10  =  80\n",
      "\n",
      "9  X  1  =  9\n",
      "9  X  2  =  18\n",
      "9  X  3  =  27\n",
      "9  X  4  =  36\n",
      "9  X  5  =  45\n",
      "9  X  6  =  54\n",
      "9  X  7  =  63\n",
      "9  X  8  =  72\n",
      "9  X  9  =  81\n",
      "9  X  10  =  90\n",
      "\n",
      "10  X  1  =  10\n",
      "10  X  2  =  20\n",
      "10  X  3  =  30\n",
      "10  X  4  =  40\n",
      "10  X  5  =  50\n",
      "10  X  6  =  60\n",
      "10  X  7  =  70\n",
      "10  X  8  =  80\n",
      "10  X  9  =  90\n",
      "10  X  10  =  100\n",
      "\n"
     ]
    }
   ],
   "source": [
    "for i in range(1,11):\n",
    "    for j in range(1,11):\n",
    "        print(i,' X ',j,' = ',i*j)\n",
    "    print()"
   ]
  },
  {
   "cell_type": "markdown",
   "id": "4b913207-ed56-4905-a11d-af189ff9115e",
   "metadata": {},
   "source": [
    "31. Print Patterns: Write a Python program using nested loops to print the following pattern:\n",
    "\n",
    "*\n",
    "**\n",
    "***\n",
    "****\n",
    "*****"
   ]
  },
  {
   "cell_type": "code",
   "execution_count": 31,
   "id": "86fbee7c-ecc0-4d25-b28f-581e8d6004f7",
   "metadata": {},
   "outputs": [
    {
     "name": "stdout",
     "output_type": "stream",
     "text": [
      "*\n",
      "**\n",
      "***\n",
      "****\n",
      "*****\n"
     ]
    }
   ],
   "source": [
    "for i in range(1,6):\n",
    "    for j in range(1,i+1):\n",
    "        print('*',end='')\n",
    "    print()"
   ]
  },
  {
   "cell_type": "markdown",
   "id": "0fcaa855-288b-496c-b17a-ff59bf6add79",
   "metadata": {},
   "source": [
    "32. Matrix Multiplication: Write a Python program using nested loops to multiply two matrices."
   ]
  },
  {
   "cell_type": "code",
   "execution_count": 32,
   "id": "035fc839-b35a-440b-a5ca-9de299abf080",
   "metadata": {},
   "outputs": [
    {
     "name": "stdout",
     "output_type": "stream",
     "text": [
      "The result of matrix multiplication is:\n",
      "[12, 33]\n",
      "[40, 125]\n",
      "[68, 127]\n"
     ]
    }
   ],
   "source": [
    "def matrix_multiply(a, b):\n",
    "\n",
    "    m = len(a)        \n",
    "    n = len(b)\n",
    "    p = len(b[0])    \n",
    "\n",
    "    C = [[0] * p for _ in range(m)]\n",
    "\n",
    "    for i in range(m):\n",
    "        for j in range(p):\n",
    "            C[i][j] = 0\n",
    "            for k in range(n):\n",
    "                C[i][j] += A[i][k] * B[k][j]\n",
    "    return C\n",
    "\n",
    "A = [[1, 2],\n",
    "    [3, 8],\n",
    "    [7, 6]]\n",
    "B = [[8, 7],\n",
    "    [2, 13]]\n",
    "res = matrix_multiply(A, B)\n",
    "\n",
    "print(\"The result of matrix multiplication is:\")\n",
    "for row in res:\n",
    "    print(row)\n"
   ]
  },
  {
   "cell_type": "markdown",
   "id": "6ce3f116-d645-4e24-9deb-571a264eba76",
   "metadata": {},
   "source": [
    "33. Chessboard Pattern: Write a Python program using nested loops to print a chessboard pattern (alternating “X” and “O” characters) of size 8×8.34. Number Pyramid: Write a Python program using nested loops to print a number pyramid like the following: 1 22 333 4444 55555"
   ]
  },
  {
   "cell_type": "code",
   "execution_count": 33,
   "id": "8811341a-bec8-4b19-8e72-071dd33bb22c",
   "metadata": {},
   "outputs": [
    {
     "name": "stdout",
     "output_type": "stream",
     "text": [
      "X O X O X O X \n",
      "O X O X O X O \n",
      "X O X O X O X \n",
      "O X O X O X O \n",
      "X O X O X O X \n",
      "O X O X O X O \n",
      "X O X O X O X \n"
     ]
    }
   ],
   "source": [
    "def chessboard(siz):\n",
    "    for i in range(siz):\n",
    "        for j in range(siz):\n",
    "            if (i + j) % 2 == 0:\n",
    "                print('X', end=' ')\n",
    "            else:\n",
    "                print('O', end=' ')\n",
    "        print()  \n",
    "\n",
    "siz = 7\n",
    "chessboard(siz)"
   ]
  },
  {
   "cell_type": "code",
   "execution_count": 34,
   "id": "b8b71093-76dd-45d4-a857-52a03a4abc2a",
   "metadata": {},
   "outputs": [
    {
     "name": "stdout",
     "output_type": "stream",
     "text": [
      "1\n",
      "22\n",
      "333\n",
      "4444\n"
     ]
    }
   ],
   "source": [
    "def pyramid(n):\n",
    "    for i in range(1, n + 1):\n",
    "        for j in range(i):\n",
    "            print(i, end='')\n",
    "        print() \n",
    "n = 4\n",
    "pyramid(n)"
   ]
  },
  {
   "cell_type": "markdown",
   "id": "58af4034-62b1-4fa9-b42e-9a566c0afdbe",
   "metadata": {},
   "source": [
    "34. List Sum: Write a Python program to find the sum of all elements in a given list of integers."
   ]
  },
  {
   "cell_type": "code",
   "execution_count": 35,
   "id": "a3671e42-51b5-4a8b-b3e7-4f3517174f48",
   "metadata": {},
   "outputs": [
    {
     "name": "stdout",
     "output_type": "stream",
     "text": [
      "Sum: 21\n"
     ]
    }
   ],
   "source": [
    "x = [1, 3, 4, 6, 7]\n",
    "s = 0\n",
    "for i in x:\n",
    "    s += i\n",
    "print(\"Sum:\",s)"
   ]
  },
  {
   "cell_type": "markdown",
   "id": "756f4b5a-6201-4088-93c7-1687e6abbdbb",
   "metadata": {},
   "source": [
    "35. List Average: Write a Python program to calculate the average of all elements in a given list of integers."
   ]
  },
  {
   "cell_type": "code",
   "execution_count": 36,
   "id": "3c31d136-c8ea-403b-8e29-ddc18b024ad2",
   "metadata": {},
   "outputs": [
    {
     "name": "stdout",
     "output_type": "stream",
     "text": [
      "4.2\n"
     ]
    }
   ],
   "source": [
    "x = [1, 3, 4, 6, 7]\n",
    "s = 0\n",
    "for i in x:\n",
    "    s += i\n",
    "avg =  s/len(x)\n",
    "print(avg)"
   ]
  },
  {
   "cell_type": "markdown",
   "id": "1fdaf75d-348e-4d7c-8fe6-c2d403ae4f29",
   "metadata": {},
   "source": [
    "36. List Max and Min: Write a Python program to find the maximum and minimum values in a given list of integers."
   ]
  },
  {
   "cell_type": "code",
   "execution_count": 37,
   "id": "23cbe9b6-40ec-4347-be7d-e1962f97a46c",
   "metadata": {},
   "outputs": [
    {
     "name": "stdout",
     "output_type": "stream",
     "text": [
      "Maximum value: 7\n",
      "Minimum value: 1\n"
     ]
    }
   ],
   "source": [
    "x = [1, 3, 4, 6, 7]\n",
    "max = x[0]\n",
    "min = x[0]\n",
    "for i in x:\n",
    "    if i > max:\n",
    "        max = i\n",
    "    if i < min:\n",
    "        min = i\n",
    "print(\"Maximum value:\", max)\n",
    "print(\"Minimum value:\", min)"
   ]
  },
  {
   "cell_type": "markdown",
   "id": "36ecd24c-93ee-4d98-aed1-7c028ca1d9f7",
   "metadata": {},
   "source": [
    "37. List Sorting: Write a Python program to sort a list of integers in ascending order."
   ]
  },
  {
   "cell_type": "code",
   "execution_count": 38,
   "id": "03692774-0781-4364-ad11-d8ccf5432320",
   "metadata": {},
   "outputs": [
    {
     "name": "stdout",
     "output_type": "stream",
     "text": [
      "Sorted list: [1, 3, 4, 6, 7]\n"
     ]
    }
   ],
   "source": [
    "x = [1, 3, 4, 6, 7]\n",
    "asc = sorted(x)\n",
    "print(\"Sorted list:\", asc)"
   ]
  },
  {
   "cell_type": "markdown",
   "id": "e8af4766-b3c7-4f0b-9771-b68955f5baca",
   "metadata": {},
   "source": [
    "38. List Filtering: Given a list of integers, write a Python program to create a new list that contains only the even numbers from the original list."
   ]
  },
  {
   "cell_type": "code",
   "execution_count": 39,
   "id": "1a87bb6a-9064-4f1f-927e-1090d6f8e671",
   "metadata": {},
   "outputs": [
    {
     "name": "stdout",
     "output_type": "stream",
     "text": [
      "Even list: [4, 6, 8, 10]\n"
     ]
    }
   ],
   "source": [
    "x = [1, 3, 4, 6, 7, 8, 10]\n",
    "new_list = []\n",
    "for i in x:\n",
    "    if i % 2 == 0:\n",
    "        new_list.append(i)\n",
    "print(\"Even list:\", new_list)"
   ]
  },
  {
   "cell_type": "markdown",
   "id": "2c90e596-faa2-425e-a309-e39a700f3d25",
   "metadata": {},
   "source": [
    "39. List Reversal: Write a Python program to reverse a given list without using any built-in functions."
   ]
  },
  {
   "cell_type": "code",
   "execution_count": 40,
   "id": "5b116cd7-f9d8-44a5-bf56-63a2b4fffbce",
   "metadata": {},
   "outputs": [
    {
     "name": "stdout",
     "output_type": "stream",
     "text": [
      "[9, 6, 5, 4, 3, 2, 1]\n"
     ]
    }
   ],
   "source": [
    "def reverse_list(x):\n",
    "    left = 0\n",
    "    right = len(x)-1\n",
    "    while (left < right):\n",
    "        temp = x[left]\n",
    "        x[left] = x[right]\n",
    "        x[right] = temp\n",
    "        left += 1\n",
    "        right -= 1\n",
    "    return x\n",
    "\n",
    "list = [1, 2, 3, 4, 5, 6, 9]\n",
    "print(reverse_list(list))"
   ]
  },
  {
   "cell_type": "markdown",
   "id": "278f1cce-732d-4e6a-9078-cca8105b6f2d",
   "metadata": {},
   "source": [
    "40. List Manipulation: Given two lists of integers, write a Python program to create a new list that contains elements common to both lists."
   ]
  },
  {
   "cell_type": "code",
   "execution_count": 41,
   "id": "dd32d181-7ec5-4633-b988-a4f26475fc01",
   "metadata": {},
   "outputs": [
    {
     "name": "stdout",
     "output_type": "stream",
     "text": [
      "[3, 18, 11]\n"
     ]
    }
   ],
   "source": [
    "x = [1, 4, 7, 3, 5, 18, 10,11]\n",
    "y = [2, 3, 9, 11, 14 ,18, 9]\n",
    "\n",
    "common_elements = [z for z in x if z in y]\n",
    "print(common_elements) "
   ]
  },
  {
   "cell_type": "markdown",
   "id": "6a49b190-7025-4e85-86c9-ed2484416fc2",
   "metadata": {},
   "source": [
    "41. List Element Count: Write a Python program to count the occurrences of a specific element in a given list."
   ]
  },
  {
   "cell_type": "code",
   "execution_count": 42,
   "id": "833d2e60-2b3f-4e06-ae1f-477c59a85de8",
   "metadata": {},
   "outputs": [
    {
     "name": "stdout",
     "output_type": "stream",
     "text": [
      "Element 2 occurs 3 times.\n"
     ]
    }
   ],
   "source": [
    "x = [1, 2, 3, 4, 5, 3, 2, 3, 6, 3, 2]\n",
    "y = 2\n",
    "count = 0\n",
    "for i in x:\n",
    "    if i == y:\n",
    "        count += 1\n",
    "print(f\"Element {y} occurs {count} times.\")"
   ]
  },
  {
   "cell_type": "markdown",
   "id": "e6b4e1ee-64ee-435b-9d16-d63529391829",
   "metadata": {},
   "source": [
    "42. List Duplicates Removal: Write a Python program to remove duplicates from a given list while preserving the order of the elements."
   ]
  },
  {
   "cell_type": "code",
   "execution_count": 43,
   "id": "2e6fd504-16fc-4981-a7a6-3ed97197022b",
   "metadata": {},
   "outputs": [
    {
     "name": "stdout",
     "output_type": "stream",
     "text": [
      "List after removing duplicates: [1, 2, 3, 4, 5, 8]\n"
     ]
    }
   ],
   "source": [
    "def remove_duplicates(list):\n",
    "    s = set()\n",
    "    x = []\n",
    "    for i in list:\n",
    "        if i not in s:\n",
    "            s.add(i)\n",
    "            x.append(i)\n",
    "    return x\n",
    "\n",
    "l = [1, 2, 2, 3, 4, 1, 5, 8, 4]\n",
    "unique_list = remove_duplicates(l)\n",
    "print(\"List after removing duplicates:\", unique_list)"
   ]
  },
  {
   "cell_type": "markdown",
   "id": "895301e4-49d2-4797-8339-677dc8a89dee",
   "metadata": {},
   "source": [
    "43. List Comprehension: Given a list of integers, write a Python program to create a new list that contains the squares of the elements using list comprehension."
   ]
  },
  {
   "cell_type": "code",
   "execution_count": 44,
   "id": "728b3888-52c2-405f-b3b8-1c6f282431c1",
   "metadata": {},
   "outputs": [
    {
     "name": "stdout",
     "output_type": "stream",
     "text": [
      "[81, 36, 25, 16, 9, 4, 1]\n"
     ]
    }
   ],
   "source": [
    "x =  [9, 6, 5, 4, 3, 2, 1]\n",
    "new = []\n",
    "for i in x:\n",
    "    new.append(i**2)\n",
    "print(new)"
   ]
  },
  {
   "cell_type": "markdown",
   "id": "2f169602-e46d-4c27-9a63-00d2b58342c2",
   "metadata": {},
   "source": [
    "44. Matrix Addition: Write a Python program to add two matrices represented as nested lists."
   ]
  },
  {
   "cell_type": "code",
   "execution_count": 45,
   "id": "62f06973-2b1a-46e6-bc4e-4c23847a6be3",
   "metadata": {},
   "outputs": [
    {
     "name": "stdout",
     "output_type": "stream",
     "text": [
      "[[2 2 2]\n",
      " [4 4 4]\n",
      " [6 6 6]]\n"
     ]
    }
   ],
   "source": [
    "import numpy as np\n",
    "A = np.array([[1,1,1],[2,2,2],[3,3,3]])\n",
    "B = np.array([[1,1,1],[2,2,2],[3,3,3]])\n",
    "C = np.add(A,B)\n",
    "\n",
    "print(C)"
   ]
  },
  {
   "cell_type": "markdown",
   "id": "886a4ff1-cb84-427e-ad26-26de6264ae54",
   "metadata": {},
   "source": [
    "45. Flatten Nested List: Write a Python program to flatten a given nested list and convert it into a single-dimensional list."
   ]
  },
  {
   "cell_type": "code",
   "execution_count": 46,
   "id": "ff0556de-e09f-4a1a-8fcc-3e11d391f85d",
   "metadata": {},
   "outputs": [
    {
     "name": "stdout",
     "output_type": "stream",
     "text": [
      "List:  [1, [2, 3], [4, 5], 7, [8, 9, 10]]\n",
      "New List:  [1, 2, 3, 4, 5, 7, 8, 9, 10]\n"
     ]
    }
   ],
   "source": [
    "x = [1, [2, 3], [4, 5], 7, [8, 9, 10]]\n",
    "print('List: ',x)\n",
    "new_list = []\n",
    "for i in x:\n",
    "    if type(i).__name__=='list':\n",
    "        new_list.extend(i)\n",
    "    else:\n",
    "        new_list.append(i)\n",
    "print('New List: ',new_list)"
   ]
  },
  {
   "cell_type": "markdown",
   "id": "c98cbc69-b778-43fd-9fb0-0eeaca31c1d7",
   "metadata": {},
   "source": [
    "46. List Element Frequency: Given a nested list containing lists of integers, write a Python program to count the frequency of each element in the entire nested list."
   ]
  },
  {
   "cell_type": "code",
   "execution_count": 47,
   "id": "48933798-d1f3-4277-b617-8bda932660ef",
   "metadata": {},
   "outputs": [
    {
     "name": "stdout",
     "output_type": "stream",
     "text": [
      "Element 1 occurs 2 times\n",
      "Element 2 occurs 3 times\n",
      "Element 3 occurs 2 times\n",
      "Element 4 occurs 1 times\n",
      "Element 5 occurs 1 times\n",
      "Element 6 occurs 1 times\n",
      "Element 7 occurs 1 times\n",
      "Element 8 occurs 1 times\n",
      "Element 9 occurs 1 times\n"
     ]
    }
   ],
   "source": [
    "li = [[1, 2, 3],[4, 5, 6],[1, 2, 7, 8],[2, 3, 9]]\n",
    "count = {}\n",
    "\n",
    "for sublist in li:\n",
    "    for i in sublist:\n",
    "        if i in count:\n",
    "            count[i] += 1\n",
    "        else:\n",
    "            count[i] = 1\n",
    "\n",
    "for el, cnt in count.items():\n",
    "    print(f\"Element {el} occurs {cnt} times\")"
   ]
  },
  {
   "cell_type": "markdown",
   "id": "cf043ee2-7bd6-4d36-85b2-ee946dd39767",
   "metadata": {},
   "source": [
    "47. Transpose Matrix: Write a Python program to transpose a given matrix represented as a nested list."
   ]
  },
  {
   "cell_type": "code",
   "execution_count": 48,
   "id": "04761038-615a-4065-b487-d4b151d80533",
   "metadata": {},
   "outputs": [
    {
     "name": "stdout",
     "output_type": "stream",
     "text": [
      "\n",
      "Transposed matrix:\n",
      "[1, 4, 7]\n",
      "[2, 5, 8]\n",
      "[3, 6, 9]\n"
     ]
    }
   ],
   "source": [
    "m = [[1, 2, 3], [4, 5, 6], [7, 8, 9]]\n",
    "transpose_m = []\n",
    "rows = len(m)\n",
    "cols = len(m[0])\n",
    "\n",
    "for i in range(cols):\n",
    "    row = []\n",
    "    for j in range(rows):\n",
    "        row.append(m[j][i])\n",
    "    transpose_m.append(row)\n",
    "print(\"\\nTransposed matrix:\")\n",
    "for r in transpose_m:\n",
    "    print(r)"
   ]
  },
  {
   "cell_type": "markdown",
   "id": "688a50e5-2ea6-474d-86af-6ffd194db105",
   "metadata": {},
   "source": [
    "48. List of Lists Concatenation: Given a list of nested lists, write a Python program to concatenate all the sublists into a single flat list."
   ]
  },
  {
   "cell_type": "code",
   "execution_count": 49,
   "id": "feeeee50-a439-4f52-8f1d-9488def201aa",
   "metadata": {},
   "outputs": [
    {
     "name": "stdout",
     "output_type": "stream",
     "text": [
      "List:  [1, [2, 3], [4, 5], 6, [8, 9, 11, 22]]\n",
      "New List:  [1, 2, 3, 4, 5, 6, 8, 9, 11, 22]\n"
     ]
    }
   ],
   "source": [
    "list = [1, [2, 3], [4, 5], 6, [8, 9, 11,22]]\n",
    "print('List: ',list)\n",
    "new_list = []\n",
    "for i in list:\n",
    "    if type(i).__name__=='list':\n",
    "        new_list.extend(i)\n",
    "    else:\n",
    "        new_list.append(i)\n",
    "print('New List: ',new_list)"
   ]
  },
  {
   "cell_type": "markdown",
   "id": "913bb55c-ddde-4a74-b051-e68a8fe9a08d",
   "metadata": {},
   "source": [
    "49. Tuple Concatenation: Write a Python program to concatenate two tuples and create a new tuple."
   ]
  },
  {
   "cell_type": "code",
   "execution_count": 50,
   "id": "7a6ce436-d4a1-4e58-801a-89e90d18e086",
   "metadata": {},
   "outputs": [
    {
     "name": "stdout",
     "output_type": "stream",
     "text": [
      "(1, 2)\n",
      "(3, 5, 6)\n",
      "(1, 2, 3, 5, 6)\n"
     ]
    }
   ],
   "source": [
    "t1 = (1, 2)\n",
    "print(t1)\n",
    "t2 = (3, 5, 6)\n",
    "print(t2)\n",
    "t3 = t1 + t2\n",
    "print(t3)"
   ]
  },
  {
   "cell_type": "markdown",
   "id": "4eefad94-cb36-4231-8118-be038c4a5bca",
   "metadata": {},
   "source": [
    "50. Tuple Unpacking: Given a tuple with three elements (x, y, z), write a Python program to unpack the tuple and assign the values to three variables."
   ]
  },
  {
   "cell_type": "code",
   "execution_count": 51,
   "id": "ae56157d-8b26-4372-9e94-2baafa7a6828",
   "metadata": {},
   "outputs": [
    {
     "name": "stdout",
     "output_type": "stream",
     "text": [
      "x: 1\n",
      "y: 2\n",
      "z: 3\n"
     ]
    }
   ],
   "source": [
    "t= (1, 2, 3)\n",
    "x, y, z = t\n",
    "print(\"x:\", x)\n",
    "print(\"y:\", y)\n",
    "print(\"z:\", z)"
   ]
  },
  {
   "cell_type": "markdown",
   "id": "d1524165-8245-44a3-88ca-3617604ef81c",
   "metadata": {},
   "source": [
    "51. Tuple Sorting: Write a Python program to sort a tuple of integers in ascending order."
   ]
  },
  {
   "cell_type": "code",
   "execution_count": 52,
   "id": "49c76c12-b69e-421c-9c5e-f7f8a2d9082d",
   "metadata": {},
   "outputs": [
    {
     "name": "stdout",
     "output_type": "stream",
     "text": [
      "Original tuple: (5, 2, 4, 3, 1, 6, 7)\n",
      "Sorted tuple: (1, 2, 3, 4, 5, 6, 7)\n"
     ]
    }
   ],
   "source": [
    "t = (5, 2, 4, 3, 1, 6, 7)  \n",
    "sorted_tuple = tuple(sorted(t))  \n",
    "\n",
    "print(\"Original tuple:\", t)\n",
    "print(\"Sorted tuple:\", sorted_tuple)"
   ]
  },
  {
   "cell_type": "markdown",
   "id": "26f5e358-1731-4edb-971c-4b11097dd020",
   "metadata": {},
   "source": [
    "52. Tuple Frequency Count: Given a tuple containing various elements, write a Python program to count the frequency of a specific element in the tuple."
   ]
  },
  {
   "cell_type": "code",
   "execution_count": 53,
   "id": "83dbd4ce-e236-4572-9eb7-f31476a7cf5e",
   "metadata": {},
   "outputs": [
    {
     "name": "stdout",
     "output_type": "stream",
     "text": [
      "2 is 2 times\n"
     ]
    }
   ],
   "source": [
    "t1 = (5, 3, 2, 3, 1, 2, 3,4,6)\n",
    "count = 0\n",
    "x = 2\n",
    "for i in t1:\n",
    "    if i == x:\n",
    "        count += 1\n",
    "print(x,'is',count,'times')"
   ]
  },
  {
   "cell_type": "markdown",
   "id": "f2bd7e5c-00dd-4e6e-ae20-cb15a7e6e179",
   "metadata": {},
   "source": [
    "53. Tuple to List: Write a Python program to convert a tuple into a list."
   ]
  },
  {
   "cell_type": "code",
   "execution_count": 55,
   "id": "3778f79d-b2af-4bc4-be02-3373aa030aab",
   "metadata": {},
   "outputs": [
    {
     "name": "stdout",
     "output_type": "stream",
     "text": [
      "(5, 2, 24, 3, 1, 6, 7)\n",
      "<class 'tuple'>\n",
      "[5, 2, 24, 3, 1, 6, 7]\n",
      "<class 'list'>\n"
     ]
    }
   ],
   "source": [
    "del list\n",
    "t = (5, 2, 24, 3, 1, 6, 7)  \n",
    "print(t)\n",
    "print(type(t))\n",
    "li = list(t)\n",
    "print(li)\n",
    "print(type(li))"
   ]
  },
  {
   "cell_type": "markdown",
   "id": "3d938cbb-2ec2-4184-82a0-da440909ba3c",
   "metadata": {},
   "source": [
    " 54. Tuple Reversal: Write a Python program to reverse a tuple without using any built-in functions."
   ]
  },
  {
   "cell_type": "code",
   "execution_count": 56,
   "id": "c921d4ff-6ef6-4d7e-ba2f-6657d9df1123",
   "metadata": {},
   "outputs": [
    {
     "name": "stdout",
     "output_type": "stream",
     "text": [
      "Original tuple: (1, 2, 3, 4, 6)\n",
      "Reversed tuple: (6, 4, 3, 2, 1)\n"
     ]
    }
   ],
   "source": [
    "t = (1, 2, 3, 4, 6)\n",
    "\n",
    "rev_t = ()\n",
    "for i in range(len(t) - 1, -1, -1):\n",
    "    rev_t += (t[i],)\n",
    "\n",
    "print(\"Original tuple:\", t)\n",
    "print(\"Reversed tuple:\", rev_t)"
   ]
  },
  {
   "cell_type": "markdown",
   "id": "71a069b8-fe6e-411e-9c74-3ca33ee4f7ec",
   "metadata": {},
   "source": [
    "55. Tuple Slicing: Given a tuple, write a Python program to extract a slice of elements from it."
   ]
  },
  {
   "cell_type": "code",
   "execution_count": 57,
   "id": "d177606a-9ff3-4ada-b1f3-71f8068028d0",
   "metadata": {},
   "outputs": [
    {
     "name": "stdout",
     "output_type": "stream",
     "text": [
      "Original tuple: (10, 20, 30, 40, 50, 60, 70, 80, 90)\n",
      "Extracted slice: (30, 40, 50, 60)\n"
     ]
    }
   ],
   "source": [
    "t = (10, 20, 30, 40, 50, 60, 70, 80, 90)\n",
    "start_ind = 2\n",
    "stop_ind = 6\n",
    "step = 1\n",
    "slice_t = t[start_ind:stop_ind:step]\n",
    "print(\"Original tuple:\", t)\n",
    "print(\"Extracted slice:\", slice_t)"
   ]
  },
  {
   "cell_type": "markdown",
   "id": "a70a562e-853b-4c65-88d4-588ab549e052",
   "metadata": {},
   "source": [
    "56. Tuple Operations: Given two tuples of integers, write a Python program to perform element-wise addition, subtraction, and multiplication and create new tuples for each operation."
   ]
  },
  {
   "cell_type": "code",
   "execution_count": 58,
   "id": "89c336b8-65fa-4a9a-876e-e100bad8831d",
   "metadata": {},
   "outputs": [
    {
     "name": "stdout",
     "output_type": "stream",
     "text": [
      "(1, 5, 3)\n",
      "(4, 2, 6)\n",
      "Addition (5, 7, 9)\n",
      "Subtraction (-3, 3, -3)\n",
      "Multiplication (4, 10, 18)\n"
     ]
    }
   ],
   "source": [
    "t1 = (1,5,3)\n",
    "t2 = (4,2,6)\n",
    "print(t1)\n",
    "print(t2)\n",
    "add = []\n",
    "sub = []\n",
    "multi = []\n",
    "for i in range(0,len(t1)):\n",
    "    add.append(t1[i]+t2[i])\n",
    "    sub.append(t1[i]-t2[i])\n",
    "    multi.append(t1[i]*t2[i])\n",
    "print('Addition', tuple(add))\n",
    "print('Subtraction', tuple(sub))\n",
    "print('Multiplication', tuple(multi))"
   ]
  },
  {
   "cell_type": "markdown",
   "id": "9bb2d520-18d8-4dce-abd5-4f5ad88dba08",
   "metadata": {},
   "source": [
    "57. Tuple Membership Test: Write a Python program that takes an element as input and checks if it exists in a given tuple."
   ]
  },
  {
   "cell_type": "code",
   "execution_count": 59,
   "id": "751484c8-4560-4bca-9267-eb8522d17fc5",
   "metadata": {},
   "outputs": [
    {
     "name": "stdin",
     "output_type": "stream",
     "text": [
      " 5\n"
     ]
    },
    {
     "name": "stdout",
     "output_type": "stream",
     "text": [
      "5 exists in the tuple.\n"
     ]
    }
   ],
   "source": [
    "t = (1, 5, 6, 10, 20, 22)\n",
    "el = int(input())\n",
    "\n",
    "if el in t:\n",
    "    print(el,\"exists in the tuple.\")\n",
    "else:\n",
    "    print(el,\"does not exist in the tuple.\")"
   ]
  },
  {
   "cell_type": "markdown",
   "id": "2801ab11-c4d8-4a86-adcd-a9054b2cc247",
   "metadata": {},
   "source": [
    "58. Tuple Packing: Write a Python program to pack three variables into a single tuple and print the tuple."
   ]
  },
  {
   "cell_type": "code",
   "execution_count": 60,
   "id": "baa36254-7c8e-4dfd-9893-f13431ab29de",
   "metadata": {},
   "outputs": [
    {
     "name": "stdout",
     "output_type": "stream",
     "text": [
      "(11, 2, 7)\n"
     ]
    }
   ],
   "source": [
    "x=11\n",
    "y=2\n",
    "z=7\n",
    "t = (x,y,z)\n",
    "print(t)"
   ]
  },
  {
   "cell_type": "markdown",
   "id": "7280dfd5-6a91-48b7-bcdc-1549cb1ad13f",
   "metadata": {},
   "source": [
    "59. Nested List Element Access: Given a nested list, write a Python program to access and print specific elements from it."
   ]
  },
  {
   "cell_type": "code",
   "execution_count": 61,
   "id": "ff5e2ea5-b4a2-49c0-a63c-c92909c541c9",
   "metadata": {},
   "outputs": [
    {
     "name": "stdout",
     "output_type": "stream",
     "text": [
      "List:  [1, [2, 3], [4, 5, 6], 7, [8, 9, 10], 11]\n",
      "Value 1:  1\n",
      "Value 3:  3\n",
      "Value 6:  6\n",
      "Value 11:  11\n"
     ]
    }
   ],
   "source": [
    "li = [1, [2, 3], [4, 5, 6], 7, [8, 9, 10],11]\n",
    "print('List: ', li)\n",
    "print('Value 1: ', li[0])\n",
    "print('Value 3: ', li[1][1])\n",
    "print('Value 6: ', li[2][2])\n",
    "print('Value 11: ', li[5])"
   ]
  },
  {
   "cell_type": "markdown",
   "id": "2e4870e8-c946-47eb-a09d-15e191ba83de",
   "metadata": {},
   "source": [
    "60. Nested List Flattening: Write a Python program to flatten a nested list and convert it into a single-dimensional list."
   ]
  },
  {
   "cell_type": "code",
   "execution_count": 62,
   "id": "9e7996ad-08c8-4baa-979a-e18e2f6ee6b1",
   "metadata": {},
   "outputs": [
    {
     "name": "stdout",
     "output_type": "stream",
     "text": [
      "Flattened list: [12, 10, 7, 40, 5, 30, 20, 8, 23]\n"
     ]
    }
   ],
   "source": [
    "li = [[12, 10], [7, 40, 5],[30, 20, 8, 23]]\n",
    "\n",
    "f_list = [item for i in li for item in i]\n",
    "\n",
    "print(\"Flattened list:\", f_list)"
   ]
  },
  {
   "cell_type": "markdown",
   "id": "44798a29-d2f3-41d4-a404-a1670c55ffdb",
   "metadata": {},
   "source": [
    "61. Nested List Sorting: Given a nested list containing lists of integers, write a Python program to sort the sublists based on their lengths."
   ]
  },
  {
   "cell_type": "code",
   "execution_count": 63,
   "id": "095d03a9-5ee0-48a9-9379-888cbfcc1b56",
   "metadata": {},
   "outputs": [
    {
     "name": "stdout",
     "output_type": "stream",
     "text": [
      "Sorted list: [[5], [11, 32], [4, 11, 16], [7, 8, 9, 10]]\n"
     ]
    }
   ],
   "source": [
    "li = [[4, 11, 16], [11, 32], [7, 8, 9, 10], [5]]\n",
    "\n",
    "sorted_list = sorted(li, key = len)\n",
    "print(\"Sorted list:\", sorted_list)"
   ]
  },
  {
   "cell_type": "markdown",
   "id": "34592882-979e-420f-a403-0d723bfecc5d",
   "metadata": {},
   "source": [
    "62. List of Tuples Conversion: Given a nested list containing tuples of (x, y) coordinates, write a Python program to convert it into a list of x-coordinates and a list of y-coordinates."
   ]
  },
  {
   "cell_type": "code",
   "execution_count": 64,
   "id": "e22b1028-89f2-4f81-8b40-40049d9c2575",
   "metadata": {},
   "outputs": [
    {
     "name": "stdout",
     "output_type": "stream",
     "text": [
      "X-coordinates: [1, 3, 5, 7]\n",
      "Y-coordinates: [2, 4, 6, 8]\n"
     ]
    }
   ],
   "source": [
    "li = [[(1, 2), (3, 4)], [(5, 6), (7, 8)]]\n",
    "x = []\n",
    "y = []\n",
    "for z in li:\n",
    "    for (i, j) in z:\n",
    "        x.append(i)\n",
    "        y.append(j)\n",
    "\n",
    "print(\"X-coordinates:\", x)\n",
    "print(\"Y-coordinates:\", y)"
   ]
  },
  {
   "cell_type": "markdown",
   "id": "45a27ffa-0230-4a47-ba5b-e2cde2829f0a",
   "metadata": {},
   "source": [
    "63. Matrix Transpose: Write a Python program to transpose a given matrix represented as a nested list."
   ]
  },
  {
   "cell_type": "code",
   "execution_count": 65,
   "id": "b024343a-6c3e-4a47-97d0-83ff1fa32132",
   "metadata": {},
   "outputs": [
    {
     "name": "stdout",
     "output_type": "stream",
     "text": [
      "[12, 4, 3]\n",
      "[7, 5, 8]\n"
     ]
    }
   ],
   "source": [
    "X = [[12,7],[4 ,5],[3 ,8]]\n",
    "r = [[X[j][i] for j in range(len(X))] for i in range(len(X[0]))]\n",
    "\n",
    "for i in r:\n",
    "   print(i)"
   ]
  },
  {
   "cell_type": "markdown",
   "id": "1dd83f51-9e72-4feb-bffe-7e18a80b815e",
   "metadata": {},
   "source": [
    "64. Nested List Concatenation: Given a list of nested lists, write a Python program to concatenate all the sublists into a single flat list."
   ]
  },
  {
   "cell_type": "code",
   "execution_count": 66,
   "id": "03db7c4d-3671-44a6-b420-6540dc8f1b5f",
   "metadata": {},
   "outputs": [
    {
     "name": "stdout",
     "output_type": "stream",
     "text": [
      "Flat list: [12, 7, 4, 5, 3, 8]\n"
     ]
    }
   ],
   "source": [
    "li = [[12,7],[4 ,5],[3 ,8]]\n",
    "f_list = [i for s_li in li for i in s_li]\n",
    "\n",
    "print(\"Flat list:\", f_list)"
   ]
  },
  {
   "cell_type": "markdown",
   "id": "8021c507-aa6d-440e-b8a0-eeb1234b09f8",
   "metadata": {},
   "source": [
    "65. Count Even Numbers: Write a Python program to count the number of even numbers in a nested list."
   ]
  },
  {
   "cell_type": "code",
   "execution_count": 67,
   "id": "087b65ce-12f5-484b-9d76-fd493043be4a",
   "metadata": {},
   "outputs": [
    {
     "name": "stdout",
     "output_type": "stream",
     "text": [
      "Number of even numbers: 3\n"
     ]
    }
   ],
   "source": [
    "li = [[12,7],[4 ,5],[3 ,8]]\n",
    "c = 0\n",
    "for s_list in li:\n",
    "    for i in s_list:\n",
    "        if i % 2 == 0:\n",
    "            c += 1\n",
    "print(\"Number of even numbers:\", c)"
   ]
  },
  {
   "cell_type": "markdown",
   "id": "4251fa1f-190c-4633-a4e6-7f04f4698a68",
   "metadata": {},
   "source": [
    "66. Maximum Element in Nested List: Write a Python program to find the maximum element in a nested list of integers."
   ]
  },
  {
   "cell_type": "code",
   "execution_count": 68,
   "id": "4cf5d939-23b4-4a79-9d84-05a0376cd8c7",
   "metadata": {},
   "outputs": [
    {
     "name": "stdout",
     "output_type": "stream",
     "text": [
      "Maximum element: 12\n"
     ]
    }
   ],
   "source": [
    "li = [[12,7],[4 ,5],[3 ,8]]\n",
    "max = 0\n",
    "for s_list in li:\n",
    "    for i in s_list:\n",
    "        if i > max:\n",
    "            max = i\n",
    "\n",
    "print(\"Maximum element:\", max)"
   ]
  },
  {
   "cell_type": "markdown",
   "id": "57f1b18c-ca84-47c5-b115-0371e5154228",
   "metadata": {},
   "source": [
    "67. Diagonal Sum of Matrix: Given a square matrix represented as a nested list, write a Python program to calculate the sum of the elements in the main diagonal."
   ]
  },
  {
   "cell_type": "code",
   "execution_count": 69,
   "id": "da288090-9f63-4a93-9999-e51af46bffc6",
   "metadata": {},
   "outputs": [
    {
     "name": "stdout",
     "output_type": "stream",
     "text": [
      "Sum of the main diagonal elements: 15\n"
     ]
    }
   ],
   "source": [
    "m = [[1, 2, 3],[4, 5, 6],[7, 8, 9]]\n",
    "sum = 0\n",
    "for i in range(len(m)):\n",
    "    sum += m[i][i]\n",
    "print(\"Sum of the main diagonal elements:\",sum)"
   ]
  },
  {
   "cell_type": "markdown",
   "id": "49aeaaf9-ed11-49f0-b99c-97974b8b2bc2",
   "metadata": {},
   "source": [
    "68. Nested List Element Search: Write a Python program to search for a specific element in a nested list and return its position (row and column indices)."
   ]
  },
  {
   "cell_type": "code",
   "execution_count": 70,
   "id": "1bfd569b-1f17-43bd-acab-b517561e240c",
   "metadata": {},
   "outputs": [
    {
     "name": "stdout",
     "output_type": "stream",
     "text": [
      "Element 5 found at position: Row 1, Column 1\n"
     ]
    }
   ],
   "source": [
    "m = [[1, 2, 3],[4, 5, 6],[7, 8, 9]]\n",
    "e = 5\n",
    "position = None\n",
    "for row_i, row in enumerate(m):\n",
    "    if e in row:\n",
    "        col_i = row.index(e)\n",
    "        pos = (row_i, col_i)\n",
    "        break \n",
    "\n",
    "if pos:\n",
    "    print(f\"Element {e} found at position: Row {pos[0]}, Column {pos[1]}\")\n",
    "else:\n",
    "    print(f\"Element {e} not found in the matrix.\")"
   ]
  },
  {
   "cell_type": "markdown",
   "id": "574420d7-1ace-428c-9ecc-2239b3e012ce",
   "metadata": {},
   "source": [
    "69. Duplicate Removal: Write a Python program that takes a list of elements as input and creates a new set containing only the unique elements from the list."
   ]
  },
  {
   "cell_type": "code",
   "execution_count": 71,
   "id": "c5eb4d5d-638f-4434-b813-de107a6a5b10",
   "metadata": {},
   "outputs": [
    {
     "name": "stdin",
     "output_type": "stream",
     "text": [
      "Enter a list of elements separated by spaces:  3 4 5 6 7 8\n"
     ]
    },
    {
     "name": "stdout",
     "output_type": "stream",
     "text": [
      "Unique elements: {'8', '5', '6', '3', '4', '7'}\n"
     ]
    }
   ],
   "source": [
    "li = input(\"Enter a list of elements separated by spaces: \").split()\n",
    "unique_el = set(li)\n",
    "print(\"Unique elements:\", unique_el)"
   ]
  },
  {
   "cell_type": "markdown",
   "id": "eb38454b-33a5-42b0-92a2-6554d74cc217",
   "metadata": {},
   "source": [
    "70. Set Intersection: Given two sets A and B, write a Python program to find their intersection and print the common elements."
   ]
  },
  {
   "cell_type": "code",
   "execution_count": 72,
   "id": "11d142cb-ea4e-418b-af56-368cf2586573",
   "metadata": {},
   "outputs": [
    {
     "name": "stdout",
     "output_type": "stream",
     "text": [
      "Common elements: {4, 5}\n"
     ]
    }
   ],
   "source": [
    "A = {1, 2, 3, 4, 5}\n",
    "B = {4, 5, 6, 7, 8}\n",
    "intersec = A.intersection(B)\n",
    "print(\"Common elements:\", intersec)"
   ]
  },
  {
   "cell_type": "markdown",
   "id": "938522be-7499-4380-99e0-04ef16ad0e1a",
   "metadata": {},
   "source": [
    "71. Set Union: Given two sets A and B, write a Python program to find their union and print all the distinct elements from both sets."
   ]
  },
  {
   "cell_type": "code",
   "execution_count": 73,
   "id": "2034634b-89c6-4aa4-b237-23543e00f0a8",
   "metadata": {},
   "outputs": [
    {
     "name": "stdout",
     "output_type": "stream",
     "text": [
      "All distinct elements: {1, 2, 3, 4, 5, 6, 7, 8}\n"
     ]
    }
   ],
   "source": [
    "A = {1, 2, 3, 4, 5}\n",
    "B = {4, 5, 6, 7, 8}\n",
    "u = A.union(B)\n",
    "print(\"All distinct elements:\", u)"
   ]
  },
  {
   "cell_type": "markdown",
   "id": "c576d4b0-8962-42b1-bcda-154f5c502938",
   "metadata": {},
   "source": [
    "72. Set Difference: Given two sets A and B, write a Python program to find the difference between set A and set B (i.e., elements present in A but not in B) and print the result."
   ]
  },
  {
   "cell_type": "code",
   "execution_count": 74,
   "id": "f1a9853b-44a3-4108-ab88-8ed971633f5c",
   "metadata": {},
   "outputs": [
    {
     "name": "stdout",
     "output_type": "stream",
     "text": [
      "Elements in A but not in B: {1, 2, 3}\n"
     ]
    }
   ],
   "source": [
    "A = {1, 2, 3, 4, 5}\n",
    "B = {4, 5, 6, 7, 8}\n",
    "diff = A - B\n",
    "print(\"Elements in A but not in B:\", diff)"
   ]
  },
  {
   "cell_type": "markdown",
   "id": "4a961dd2-e200-48fe-b3c9-f7658bb2036c",
   "metadata": {},
   "source": [
    "73. Set Symmetric Difference: Given two sets A and B, write a Python program to find the symmetric difference between the two sets (i.e., elements that are present in either set A or set B, but not in both) and print the result."
   ]
  },
  {
   "cell_type": "code",
   "execution_count": 75,
   "id": "b55c854a-1a28-43f4-8d6d-e7df52da59cb",
   "metadata": {},
   "outputs": [
    {
     "name": "stdout",
     "output_type": "stream",
     "text": [
      "Symmetric difference between A and B: {1, 2, 3, 6, 7, 8}\n"
     ]
    }
   ],
   "source": [
    "A = {1, 2, 3, 4, 5}\n",
    "B = {4, 5, 6, 7, 8}\n",
    "symmetric_diff = (A-B).union(B-A)\n",
    "print(\"Symmetric difference between A and B:\", symmetric_diff)"
   ]
  },
  {
   "cell_type": "markdown",
   "id": "e0403aec-513f-4ba5-94de-487d97e55223",
   "metadata": {},
   "source": [
    "74. Set Operations: Given three sets A, B, and C, write a Python program to find and print the intersection of A and B, the union of B and C, and the difference between C and A."
   ]
  },
  {
   "cell_type": "code",
   "execution_count": 76,
   "id": "91eca43d-ec9b-443f-ae0b-3765de352a46",
   "metadata": {},
   "outputs": [
    {
     "name": "stdout",
     "output_type": "stream",
     "text": [
      "Intersection of A and B: {4}\n",
      "Union of B and C: {4, 5, 6, 7, 8, 9, 10}\n",
      "Difference between C and A: {8, 9, 10, 7}\n"
     ]
    }
   ],
   "source": [
    "A = {1, 2, 3, 4, }\n",
    "B = {4, 5, 6, 7}\n",
    "C = {7, 8, 9, 10}\n",
    "intersec_A_B =  A.intersection(B)\n",
    "uni_B_C = B.union(C)\n",
    "diff_C_A = C - A\n",
    "\n",
    "print(\"Intersection of A and B:\", intersec_A_B)\n",
    "print(\"Union of B and C:\", uni_B_C)\n",
    "print(\"Difference between C and A:\", diff_C_A)"
   ]
  },
  {
   "cell_type": "markdown",
   "id": "10ad2403-896a-4c31-9d02-72c91301dc5b",
   "metadata": {},
   "source": [
    "75. Set Subset Check: Given two sets A and B, write a Python program to check if set A is a subset of set B and print the result."
   ]
  },
  {
   "cell_type": "code",
   "execution_count": 77,
   "id": "09152462-6f06-410e-ad1e-f5799c85c4a7",
   "metadata": {},
   "outputs": [
    {
     "name": "stdout",
     "output_type": "stream",
     "text": [
      "True\n"
     ]
    }
   ],
   "source": [
    "A = {1, 2, 3}\n",
    "B = {1, 2, 3, 4, 5}\n",
    "subset = A.issubset(B)\n",
    "print( subset)"
   ]
  },
  {
   "cell_type": "markdown",
   "id": "10e4004f-31e1-4e9d-b19d-c87c761b782d",
   "metadata": {},
   "source": [
    "76. Set Superset Check: Given two sets A and B, write a Python program to check if set A is a superset of set B and print the result."
   ]
  },
  {
   "cell_type": "code",
   "execution_count": 78,
   "id": "9661241c-33a9-4799-8dc3-60b6fe7c3bf7",
   "metadata": {},
   "outputs": [
    {
     "name": "stdout",
     "output_type": "stream",
     "text": [
      "False\n"
     ]
    }
   ],
   "source": [
    "A = {1, 2, 3}\n",
    "B = {1, 2, 3, 4, 5}\n",
    "superset = B.issubset(A)\n",
    "print( superset)"
   ]
  },
  {
   "cell_type": "markdown",
   "id": "cdf5c65d-ae8c-47f7-98bb-fd0fc74e8c26",
   "metadata": {},
   "source": [
    "77. Set Length Check: Write a Python program that takes a set as input and prints the number of elements in the set."
   ]
  },
  {
   "cell_type": "code",
   "execution_count": 79,
   "id": "1a70c3dc-b85f-4769-8554-f22b7ea4a3c3",
   "metadata": {},
   "outputs": [
    {
     "name": "stdout",
     "output_type": "stream",
     "text": [
      "5\n"
     ]
    }
   ],
   "source": [
    "B = {1, 2, 3, 4, 5}\n",
    "print(len(B))"
   ]
  },
  {
   "cell_type": "markdown",
   "id": "9575fe81-b186-4a76-b4cd-ba9e5b67b463",
   "metadata": {},
   "source": [
    "76. Set Membership Test: Write a Python program that takes an element as input and checks if it exists in a given set. Print “Found” if the element is present and “Not Found” otherwise."
   ]
  },
  {
   "cell_type": "code",
   "execution_count": 80,
   "id": "893ebb12-9684-4cc9-99e0-5a36a1a427d0",
   "metadata": {},
   "outputs": [
    {
     "name": "stdin",
     "output_type": "stream",
     "text": [
      " 6\n"
     ]
    },
    {
     "name": "stdout",
     "output_type": "stream",
     "text": [
      "Not Found\n"
     ]
    }
   ],
   "source": [
    "B = {1, 2, 3, 4, 5}\n",
    "el = int(input())\n",
    "if el in B:\n",
    "    print(\"Found\")\n",
    "else:\n",
    "    print(\"Not Found\")"
   ]
  },
  {
   "cell_type": "markdown",
   "id": "0905034d-837e-4116-9c8d-082b59386f49",
   "metadata": {},
   "source": [
    "77. Dictionary Manipulation: Given a dictionary with student names as keys and their corresponding scores as values, write a Python program to add a new student to the dictionary and update the score of an existing student."
   ]
  },
  {
   "cell_type": "code",
   "execution_count": 81,
   "id": "8c2ae370-14f3-4a95-bbb6-f16efcacfcec",
   "metadata": {},
   "outputs": [
    {
     "name": "stdout",
     "output_type": "stream",
     "text": [
      "Student Diba added or updated with score 88.\n",
      "Student Shimu added or updated with score 96.\n",
      "\n",
      "Student dictionary:\n",
      "{'Rimu': 88, 'Bithi': 95, 'Shimu': 96, 'Diba': 88}\n"
     ]
    }
   ],
   "source": [
    "student = {\n",
    "    'Rimu': 88,\n",
    "    'Bithi': 95,\n",
    "    'Shimu': 77\n",
    "}\n",
    "def add_or_update(st_dict, name, score):\n",
    "    st_dict[name] = score\n",
    "    print(f\"Student {name} added or updated with score {score}.\")\n",
    "\n",
    "add_or_update(student, 'Diba', 88) \n",
    "add_or_update(student, 'Shimu', 96)\n",
    "\n",
    "print(\"\\nStudent dictionary:\")\n",
    "print(student)"
   ]
  },
  {
   "cell_type": "markdown",
   "id": "c75002bd-630f-4d4b-8bd2-7bc54920d456",
   "metadata": {},
   "source": [
    "78. Dictionary Keys and Values: Write a Python program that takes a dictionary as input and prints all the keys and values in separate lines."
   ]
  },
  {
   "cell_type": "code",
   "execution_count": 82,
   "id": "56136cdf-a14c-4839-91ab-354a8771e25a",
   "metadata": {},
   "outputs": [
    {
     "name": "stdin",
     "output_type": "stream",
     "text": [
      "Enter the number of key-value pairs:  2\n",
      "Enter key:  Rimu\n",
      "Enter value:  56\n",
      "Enter key:  Ripa\n",
      "Enter value:  55\n"
     ]
    },
    {
     "name": "stdout",
     "output_type": "stream",
     "text": [
      "\n",
      "Keys: \n",
      "Rimu\n",
      "Ripa\n",
      "\n",
      "Values: \n",
      "56\n",
      "55\n"
     ]
    }
   ],
   "source": [
    "d = {}\n",
    "n = int(input(\"Enter the number of key-value pairs: \"))\n",
    "for k in range(n):\n",
    "    keys = input(\"Enter key: \")\n",
    "    value = int(input(\"Enter value: \"))\n",
    "    d[keys] = value\n",
    "    \n",
    "print(\"\\nKeys: \")\n",
    "for key in d:\n",
    "    print(key)\n",
    "\n",
    "print(\"\\nValues: \")\n",
    "for value in d.values():\n",
    "    print(value)"
   ]
  },
  {
   "cell_type": "markdown",
   "id": "5492d332-bd53-450a-b3af-938e444865fc",
   "metadata": {},
   "source": [
    "79. Dictionary Length: Write a Python program to calculate and print the number of key-value pairs in a given dictionary."
   ]
  },
  {
   "cell_type": "code",
   "execution_count": 83,
   "id": "2c4a37f5-e14c-4d24-ae73-41637ccd5b38",
   "metadata": {},
   "outputs": [
    {
     "name": "stdout",
     "output_type": "stream",
     "text": [
      "The number of key-value pairs in the dictionary is: 3\n"
     ]
    }
   ],
   "source": [
    "student = {\n",
    "    'Rimu': 88,\n",
    "    'Bithi': 95,\n",
    "    'Shimu': 77\n",
    "}\n",
    "pairs = len(student)\n",
    "print(\"The number of key-value pairs in the dictionary is:\", pairs)"
   ]
  },
  {
   "cell_type": "markdown",
   "id": "63d88927-9ae2-4827-b54c-025a8d24ac2e",
   "metadata": {},
   "source": [
    "80. Dictionary Value Search: Given a dictionary of items and their prices, write a Python program to search for an item based on its price and print the item’s name."
   ]
  },
  {
   "cell_type": "code",
   "execution_count": 84,
   "id": "5342bcde-12b1-40e4-a5fe-4d911af3e52e",
   "metadata": {},
   "outputs": [
    {
     "name": "stdout",
     "output_type": "stream",
     "text": [
      "Item's name: Chocolate\n"
     ]
    }
   ],
   "source": [
    "items = {\n",
    "    'Chocolate': 190,\n",
    "    'Ice-Cream': 350,\n",
    "    'Pizza': 100\n",
    "}\n",
    "for i in items:\n",
    "    if items[i] == 190:\n",
    "        print(\"Item's name:\",i)\n",
    "        break"
   ]
  },
  {
   "cell_type": "markdown",
   "id": "a6130654-b921-4368-bf75-185209a6cf34",
   "metadata": {},
   "source": [
    "81. Dictionary Merging: Given two dictionaries, write a Python program to merge them into a single dictionary and print the result."
   ]
  },
  {
   "cell_type": "code",
   "execution_count": 85,
   "id": "a380a7e2-83b8-4aaa-8f2d-cb8d80cf811d",
   "metadata": {},
   "outputs": [
    {
     "name": "stdout",
     "output_type": "stream",
     "text": [
      "{'Chocolate': 190, 'Ice-Cream': 350, 'Pizza': 100, 'Coffee': 150}\n"
     ]
    }
   ],
   "source": [
    "d1 = {\n",
    "    'Chocolate': 190,\n",
    "    'Ice-Cream': 350,\n",
    "}\n",
    "\n",
    "d2 = {\n",
    "    'Pizza': 100,\n",
    "    'Coffee': 150\n",
    "}\n",
    "d = d1 | d2\n",
    "print(d)"
   ]
  },
  {
   "cell_type": "markdown",
   "id": "4379ff46-fb75-4af6-b311-5bd348e63ae8",
   "metadata": {},
   "source": [
    "82. Dictionary Key Removal: Given a dictionary of items and their quantities, write a Python program to remove a specific item from the dictionary based on user input."
   ]
  },
  {
   "cell_type": "code",
   "execution_count": 86,
   "id": "f6b05b1c-88a6-4d56-b7b7-141817a8bb0a",
   "metadata": {},
   "outputs": [
    {
     "name": "stdin",
     "output_type": "stream",
     "text": [
      "Enter the item you want to remove:  Pizza\n"
     ]
    },
    {
     "name": "stdout",
     "output_type": "stream",
     "text": [
      "{'Chocolate': 190, 'Ice-Cream': 350}\n"
     ]
    }
   ],
   "source": [
    "items = {\n",
    "    'Chocolate': 190,\n",
    "    'Ice-Cream': 350,\n",
    "    'Pizza': 100\n",
    "}\n",
    "it = input(\"Enter the item you want to remove: \")\n",
    "items.pop(it)\n",
    "print(items)"
   ]
  },
  {
   "cell_type": "markdown",
   "id": "2ecddb29-71c2-4507-bb9a-10230d931a32",
   "metadata": {},
   "source": [
    "83. Dictionary Sorting: Given a dictionary with names as keys and corresponding ages as values, write a Python program to sort the dictionary based on age in ascending order."
   ]
  },
  {
   "cell_type": "code",
   "execution_count": 87,
   "id": "5285dcb8-d9e9-40bf-974f-e8a778a66eaf",
   "metadata": {},
   "outputs": [
    {
     "name": "stdout",
     "output_type": "stream",
     "text": [
      "{'Shimu': 10, 'Bithi': 19, 'Diba': 20, 'Rimu': 22}\n"
     ]
    }
   ],
   "source": [
    "d = {\n",
    "    'Rimu': 22, \n",
    "    'Bithi': 19,\n",
    "    'Shimu': 10,\n",
    "    'Diba': 20\n",
    "}\n",
    "sorted_d = dict(sorted(d.items(), key=lambda item: item[1]))\n",
    "print(sorted_d)"
   ]
  },
  {
   "cell_type": "markdown",
   "id": "4845a845-8552-4281-bed7-23e5e53569a2",
   "metadata": {},
   "source": [
    "84. Dictionary Frequency Count: Write a Python program that takes a string as input and creates a dictionary containing each character as a key and its frequency as the value."
   ]
  },
  {
   "cell_type": "code",
   "execution_count": 88,
   "id": "31ddb656-8407-4b0d-ad6c-237f50d21d4b",
   "metadata": {},
   "outputs": [
    {
     "name": "stdin",
     "output_type": "stream",
     "text": [
      " hello world\n"
     ]
    },
    {
     "name": "stdout",
     "output_type": "stream",
     "text": [
      "{'h': 1, 'e': 1, 'l': 3, 'o': 2, ' ': 1, 'w': 1, 'r': 1, 'd': 1}\n"
     ]
    }
   ],
   "source": [
    "strng = input()\n",
    "freq = {}\n",
    " \n",
    "for i in strng:\n",
    "    if i in freq:\n",
    "        freq[i] += 1\n",
    "    else:\n",
    "        freq[i] = 1\n",
    " \n",
    "print(str(freq))"
   ]
  },
  {
   "cell_type": "markdown",
   "id": "976dfa2e-e669-4d1b-869a-55ed35ab4ed3",
   "metadata": {},
   "source": [
    "85. Dictionary Comprehension: Given a list of integers, write a Python program to create a dictionary where the keys are the elements from the list, and the values are their squares."
   ]
  },
  {
   "cell_type": "code",
   "execution_count": 89,
   "id": "cf3fade9-455b-41af-a6b1-666f3573c892",
   "metadata": {},
   "outputs": [
    {
     "name": "stdout",
     "output_type": "stream",
     "text": [
      "{1: 1, 2: 4, 3: 9, 6: 36, 8: 64}\n"
     ]
    }
   ],
   "source": [
    "li = [1, 2, 3, 6, 8]\n",
    "sqr_dict = {i: i*i for i in li}\n",
    "\n",
    "print(sqr_dict)"
   ]
  },
  {
   "cell_type": "markdown",
   "id": "0270caa9-ac65-4ba8-9a5a-66f5caeb33a8",
   "metadata": {},
   "source": [
    "86. Dictionary Key Check: Write a Python program that takes a key as input and checks if it exists in a given dictionary. Print “Key Found” if the key is present and “Key Not Found” otherwise."
   ]
  },
  {
   "cell_type": "code",
   "execution_count": 90,
   "id": "95f7d987-d981-44e6-b01f-9fab0ef1f590",
   "metadata": {},
   "outputs": [
    {
     "name": "stdin",
     "output_type": "stream",
     "text": [
      "Enter the key to check:  Rimu\n"
     ]
    },
    {
     "name": "stdout",
     "output_type": "stream",
     "text": [
      "Key Found\n"
     ]
    }
   ],
   "source": [
    "student = {\n",
    "    'Rimu': 88,\n",
    "    'Bithi': 95,\n",
    "    'Shimu': 77\n",
    "}\n",
    "key = input(\"Enter the key to check: \")\n",
    "if key in student:\n",
    "    print(\"Key Found\")\n",
    "else:\n",
    "    print(\"Key Not Found\")"
   ]
  },
  {
   "cell_type": "markdown",
   "id": "4a376ba2-6a75-4918-88ea-b31a3d0578e9",
   "metadata": {},
   "source": [
    "Nested Dictionary Problems:\n",
    "\n",
    "87. Access Nested Dictionary: Given a nested dictionary containing student details, write a Python program to access and print specific information such as a student’s name, age, and address."
   ]
  },
  {
   "cell_type": "code",
   "execution_count": 91,
   "id": "e9c76ec9-217b-4455-b34e-5ac1b310c08e",
   "metadata": {},
   "outputs": [
    {
     "name": "stdout",
     "output_type": "stream",
     "text": [
      "student1 \n",
      "__________________\n",
      "name  :  Rimu\n",
      "age  :  20\n",
      "address  :  Sylhet\n",
      "\n",
      "\n",
      "student2 \n",
      "__________________\n",
      "name  :  Farhana\n",
      "age  :  25\n",
      "address  :  Dhaka\n",
      "\n",
      "\n",
      "student3 \n",
      "__________________\n",
      "name  :  Hasna\n",
      "age  :  28\n",
      "address  :  ctg\n",
      "\n",
      "\n"
     ]
    }
   ],
   "source": [
    "d = {\n",
    "    'student1': {\n",
    "        'name': 'Rimu',\n",
    "        'age': 20,\n",
    "        'address': 'Sylhet'\n",
    "    },\n",
    "    'student2': {\n",
    "        'name': 'Farhana',\n",
    "        'age': 25,\n",
    "        'address': 'Dhaka'\n",
    "    },\n",
    "    'student3': {\n",
    "        'name': 'Hasna',\n",
    "        'age': 28,\n",
    "        'address': 'ctg'\n",
    "    } \n",
    "}\n",
    "for key, val in d.items():\n",
    "    print(key,'\\n__________________')\n",
    "    for key, val in val.items():\n",
    "        print(key,' : ',val) \n",
    "    print(\"\\n\")"
   ]
  },
  {
   "cell_type": "markdown",
   "id": "03c40a84-abd4-4021-babf-ed4a0edddebd",
   "metadata": {},
   "source": [
    "88. Nested Dictionary Length: Write a Python program to calculate and print the total number of key-value pairs in a nested dictionary."
   ]
  },
  {
   "cell_type": "code",
   "execution_count": 92,
   "id": "169d2716-a944-4972-8cb5-e3a69ca4431d",
   "metadata": {},
   "outputs": [
    {
     "name": "stdout",
     "output_type": "stream",
     "text": [
      "Total:  3\n",
      "Sub_Total:  3\n",
      "Sub_Total:  3\n",
      "Sub_Total:  3\n"
     ]
    }
   ],
   "source": [
    "d = {\n",
    "    'student1': {\n",
    "        'name': 'Rimu',\n",
    "        'age': 20,\n",
    "        'address': 'Sylhet'\n",
    "    },\n",
    "    'student2': {\n",
    "        'name': 'Farhana',\n",
    "        'age': 25,\n",
    "        'address': 'Dhaka'\n",
    "    },\n",
    "    'student3': {\n",
    "        'name': 'Hasna',\n",
    "        'age': 28,\n",
    "        'address': 'ctg'\n",
    "    } \n",
    "}\n",
    "print('Total: ',len(d))\n",
    "\n",
    "for key,value in d.items():\n",
    "    print('Sub_Total: ',len(value))"
   ]
  },
  {
   "cell_type": "markdown",
   "id": "c4511f37-25ad-4adb-8e6c-00cf8c17817d",
   "metadata": {},
   "source": [
    "89. Nested Dictionary Update: Given a nested dictionary of employee details, write a Python program to update an employee’s salary based on their employee ID."
   ]
  },
  {
   "cell_type": "code",
   "execution_count": 93,
   "id": "1eb78bef-969c-4784-8bc8-46233f9d5f94",
   "metadata": {},
   "outputs": [
    {
     "name": "stdout",
     "output_type": "stream",
     "text": [
      "Current employee details:\n",
      "emp1 \n",
      "___________________\n",
      "id : 1\n",
      "name : Rimu Akter\n",
      "department : HR\n",
      "salary : 50000\n",
      "\n",
      "\n",
      "emp2 \n",
      "___________________\n",
      "id : 2\n",
      "name : Bithi Roy\n",
      "department : IT\n",
      "salary : 60000\n",
      "\n",
      "\n",
      "emp3 \n",
      "___________________\n",
      "id : 3\n",
      "name : Diba Chy\n",
      "department : Finance\n",
      "salary : 45000\n",
      "\n",
      "\n"
     ]
    },
    {
     "name": "stdin",
     "output_type": "stream",
     "text": [
      "Enter the employee ID:  2\n",
      "Enter the new salary:  400\n"
     ]
    },
    {
     "name": "stdout",
     "output_type": "stream",
     "text": [
      "Salary for employee ID 2 updated to 400.0.\n",
      "\n",
      "Updated employee details:\n",
      "emp1 \n",
      "___________________\n",
      "id : 1\n",
      "name : Rimu Akter\n",
      "department : HR\n",
      "salary : 50000\n",
      "\n",
      "\n",
      "emp2 \n",
      "___________________\n",
      "id : 2\n",
      "name : Bithi Roy\n",
      "department : IT\n",
      "salary : 400.0\n",
      "\n",
      "\n",
      "emp3 \n",
      "___________________\n",
      "id : 3\n",
      "name : Diba Chy\n",
      "department : Finance\n",
      "salary : 45000\n",
      "\n",
      "\n"
     ]
    }
   ],
   "source": [
    "employees = {\n",
    "    'emp1': {\n",
    "        'id': 1,\n",
    "        'name': 'Rimu Akter',\n",
    "        'department': 'HR',\n",
    "        'salary': 50000\n",
    "    },\n",
    "    'emp2': {\n",
    "        'id': 2,\n",
    "        'name': 'Bithi Roy',\n",
    "        'department': 'IT',\n",
    "        'salary': 60000\n",
    "    },\n",
    "    'emp3': {\n",
    "        'id': 3,\n",
    "        'name': 'Diba Chy',\n",
    "        'department': 'Finance',\n",
    "        'salary': 45000\n",
    "    }\n",
    "}\n",
    "\n",
    "print(\"Current employee details:\")\n",
    "for emp_id, details in employees.items():\n",
    "    print(emp_id, '\\n___________________')\n",
    "    for key, value in details.items():\n",
    "        print(f\"{key} : {value}\")\n",
    "    print(\"\\n\")\n",
    "\n",
    "e_id = int(input(\"Enter the employee ID: \"))\n",
    "new_salary = float(input(\"Enter the new salary: \"))\n",
    "\n",
    "# Find the employee with the matching ID\n",
    "found = False\n",
    "for emp_key, details in employees.items():\n",
    "    if details['id'] == e_id:\n",
    "        employees[emp_key]['salary'] = new_salary\n",
    "        print(f\"Salary for employee ID {e_id} updated to {new_salary}.\")\n",
    "        found = True\n",
    "        break\n",
    "\n",
    "if not found:\n",
    "    print(f\"Employee ID {e_id} not found.\")\n",
    "    \n",
    "print(\"\\nUpdated employee details:\")\n",
    "for emp_id, details in employees.items():\n",
    "    print(emp_id, '\\n___________________')\n",
    "    for key, value in details.items():\n",
    "        print(f\"{key} : {value}\")\n",
    "    print(\"\\n\")\n"
   ]
  },
  {
   "cell_type": "markdown",
   "id": "98709065-2d3a-4c2a-948b-747a1e126903",
   "metadata": {},
   "source": [
    "90. Nested Dictionary Sorting: Given a nested dictionary containing product details (product name, price, and quantity), write a Python program to sort the products based on their prices in ascending order."
   ]
  },
  {
   "cell_type": "code",
   "execution_count": 94,
   "id": "89679e1c-df62-4a02-bc1c-e24cf0e88bf7",
   "metadata": {},
   "outputs": [
    {
     "name": "stdout",
     "output_type": "stream",
     "text": [
      "{'product1': {'name': 'Chocolate', 'price': 350, 'quantity': 100}, 'product2': {'name': 'Ice Cream', 'price': 140, 'quantity': 200}, 'product3': {'name': 'Juice', 'price': 150, 'quantity': 70}}\n",
      "After sorted\n",
      "{'product2': {'name': 'Ice Cream', 'price': 140, 'quantity': 200}, 'product3': {'name': 'Juice', 'price': 150, 'quantity': 70}, 'product1': {'name': 'Chocolate', 'price': 350, 'quantity': 100}}\n"
     ]
    }
   ],
   "source": [
    "products = {\n",
    "    'product1': {\n",
    "        'name': 'Chocolate',\n",
    "        'price': 350,\n",
    "        'quantity': 100\n",
    "    },\n",
    "    'product2': {\n",
    "        'name': 'Ice Cream',\n",
    "        'price': 140,\n",
    "        'quantity': 200\n",
    "    },\n",
    "    'product3': {\n",
    "        'name': 'Juice',\n",
    "        'price': 150,\n",
    "        'quantity': 70\n",
    "    },\n",
    "}\n",
    "print(products)\n",
    "sorted_dict = dict(sorted(products.items(), key=lambda x: x[1]['price']))\n",
    "print('After sorted')\n",
    "print(sorted_dict)"
   ]
  },
  {
   "cell_type": "markdown",
   "id": "7a5ee863-5924-49f7-9170-b88676487df7",
   "metadata": {},
   "source": [
    "91. Nested Dictionary Key Search: Write a Python program that takes a key as input and searches for it in a nested dictionary. If found, print the corresponding value, otherwise, print “Key Not Found.”"
   ]
  },
  {
   "cell_type": "code",
   "execution_count": 95,
   "id": "05c8b8f8-8eb4-455d-b948-e2dcdac204f0",
   "metadata": {},
   "outputs": [
    {
     "name": "stdin",
     "output_type": "stream",
     "text": [
      "Enter the employee key (e.g., 'emp1'):  emp2\n"
     ]
    },
    {
     "name": "stdout",
     "output_type": "stream",
     "text": [
      "Details for emp2 :\n",
      " {'id': 2, 'name': 'Bithi Roy', 'department': 'IT', 'salary': 60000}\n"
     ]
    }
   ],
   "source": [
    "employees = {\n",
    "    'emp1': {\n",
    "        'id': 1,\n",
    "        'name': 'Rimu Akter',\n",
    "        'department': 'HR',\n",
    "        'salary': 50000\n",
    "    },\n",
    "    'emp2': {\n",
    "        'id': 2,\n",
    "        'name': 'Bithi Roy',\n",
    "        'department': 'IT',\n",
    "        'salary': 60000\n",
    "    },\n",
    "    'emp3': {\n",
    "        'id': 3,\n",
    "        'name': 'Diba Chy',\n",
    "        'department': 'Finance',\n",
    "        'salary': 45000\n",
    "    }\n",
    "}\n",
    "key = input(\"Enter the employee key (e.g., 'emp1'): \")\n",
    "if key in employees:\n",
    "    print(\"Details for\",key, \":\\n\", employees[key])\n",
    "else:\n",
    "    print(\"Key Not Found.\")"
   ]
  },
  {
   "cell_type": "markdown",
   "id": "6d2c374c-2764-4303-8825-5fe181bbdf9c",
   "metadata": {},
   "source": [
    "Break & Continue:  \n",
    "\n",
    "92. Prime Number Checker: Write a Python program that takes a number as input and determines if it is a prime number or not. Use a `for` loop to check for factors. If a factor is found, `break` out of the loop."
   ]
  },
  {
   "cell_type": "code",
   "execution_count": 96,
   "id": "fc40bf50-a88c-43b5-a7ff-e64b740bb162",
   "metadata": {},
   "outputs": [
    {
     "name": "stdin",
     "output_type": "stream",
     "text": [
      " 5\n"
     ]
    },
    {
     "name": "stdout",
     "output_type": "stream",
     "text": [
      "5  is prime number\n"
     ]
    }
   ],
   "source": [
    "num = int(input())\n",
    "is_prime = True\n",
    "for i in range(2,num):\n",
    "    if num %i == 0 and num !=2:\n",
    "        is_prime = False\n",
    "        break\n",
    "if is_prime:\n",
    "    print(num,' is prime number')\n",
    "else:\n",
    "    print(num,' is not prime number')"
   ]
  },
  {
   "cell_type": "markdown",
   "id": "dc1ff9f0-6049-4fc8-b958-361310b7ae26",
   "metadata": {},
   "source": [
    "93. Even Number Printer: Write a Python program to print all even numbers from 1 to 20. Use a `for` loop and `continue` to skip odd numbers."
   ]
  },
  {
   "cell_type": "code",
   "execution_count": 97,
   "id": "aa7ca9ea-9a8f-4102-b894-5b63c7e557aa",
   "metadata": {},
   "outputs": [
    {
     "name": "stdout",
     "output_type": "stream",
     "text": [
      "2\n",
      "4\n",
      "6\n",
      "8\n",
      "10\n",
      "12\n",
      "14\n",
      "16\n",
      "18\n",
      "20\n"
     ]
    }
   ],
   "source": [
    "for i in range(1, 21):\n",
    "    if i % 2 != 0:\n",
    "        continue \n",
    "    print(i)"
   ]
  },
  {
   "cell_type": "markdown",
   "id": "d52e786a-a3ac-4841-aa75-0399f1139859",
   "metadata": {},
   "source": [
    "94. Password Validator: Write a Python program that takes a password as input and checks if it meets the following criteria: at least 8 characters long, contains both uppercase and lowercase letters, and has at least one digit. If the password is valid, print “Password accepted.” If not, use `continue` to prompt the user to enter a valid password."
   ]
  },
  {
   "cell_type": "code",
   "execution_count": 98,
   "id": "cdcbca91-84d5-4b6c-927e-787c70303c63",
   "metadata": {},
   "outputs": [
    {
     "name": "stdout",
     "output_type": "stream",
     "text": [
      "Password accepted\n"
     ]
    }
   ],
   "source": [
    "def eight_char(ch):\n",
    "    if len(ch) >= 8:\n",
    "        return True\n",
    "    return False\n",
    "def upper_case(ch):\n",
    "    for i in ch:\n",
    "        if ord(i) >= 65 and ord(i) <= 89:\n",
    "            return True\n",
    "    return False\n",
    "def lower_case(ch):\n",
    "    for i in ch:\n",
    "        if ord(i) >= 97 and ord(i) <= 122:\n",
    "            return True\n",
    "    return False\n",
    "def number(ch):\n",
    "    for i in ch:\n",
    "        if ord(i) >= 48 and ord(i) <= 57:\n",
    "            return True\n",
    "    return False\n",
    "\n",
    "password = 'Abcd@124'\n",
    "char = list(password)\n",
    "if eight_char(char) and upper_case(char) and lower_case(char) and number(char):\n",
    "    print('Password accepted')\n",
    "else:\n",
    "    print('Password not accepted')\n"
   ]
  },
  {
   "cell_type": "markdown",
   "id": "f5bf6459-b488-4b70-a1b4-a985b90e184c",
   "metadata": {},
   "source": [
    "95. Divisible by 3 or 5: Write a Python program to print all numbers from 1 to 50 that are divisible by either 3 or 5. Use a `for` loop and `continue` to skip numbers that are not divisible by either 3 or 5."
   ]
  },
  {
   "cell_type": "code",
   "execution_count": 99,
   "id": "4333e58e-53c2-454b-bfc7-9abed9655b4e",
   "metadata": {},
   "outputs": [
    {
     "name": "stdout",
     "output_type": "stream",
     "text": [
      "3,5,6,9,10,12,15,18,20,21,24,25,27,30,33,35,36,39,40,42,45,48,50,"
     ]
    }
   ],
   "source": [
    "for i in range(1, 51):\n",
    "    if i % 3 == 0 or i % 5 == 0:\n",
    "        print(i, end=',')\n",
    "    else:\n",
    "        continue"
   ]
  },
  {
   "cell_type": "markdown",
   "id": "8e17136f-41ba-4af0-9f32-b4b263d4168d",
   "metadata": {},
   "source": [
    "96. Positive Number Sum: Write a Python program that takes positive numbers as input until a negative number is entered. Then, calculate and print the sum of all positive numbers entered. Use a `while` loop and `break` to exit the loop when a negative number is encountered."
   ]
  },
  {
   "cell_type": "code",
   "execution_count": 100,
   "id": "0e519caa-d44d-43a3-a770-a391bda79e32",
   "metadata": {},
   "outputs": [
    {
     "name": "stdin",
     "output_type": "stream",
     "text": [
      " 3\n",
      " -2\n"
     ]
    },
    {
     "name": "stdout",
     "output_type": "stream",
     "text": [
      "The sum of all positive numbers entered is: 3.0\n"
     ]
    }
   ],
   "source": [
    "sum = 0\n",
    "while True:\n",
    "    n = float(input())\n",
    "    if n < 0:\n",
    "        break \n",
    "    sum += n\n",
    "print(\"The sum of all positive numbers entered is:\", sum)"
   ]
  },
  {
   "cell_type": "markdown",
   "id": "4f56596b-87fb-44c6-97ec-7ed5e04af7e2",
   "metadata": {},
   "source": [
    "97. Word Palindrome Checker: Write a Python program that takes a word as input and checks if it is a palindrome (reads the same forwards and backward). Use `continue` to skip checking the word if its length is less than 3 characters."
   ]
  },
  {
   "cell_type": "code",
   "execution_count": 101,
   "id": "fc5f7812-1ce3-4dc6-909f-67740472b8f5",
   "metadata": {},
   "outputs": [
    {
     "name": "stdin",
     "output_type": "stream",
     "text": [
      " 2\n",
      " dfd\n"
     ]
    },
    {
     "name": "stdout",
     "output_type": "stream",
     "text": [
      "'dfd' is a palindrome.\n"
     ]
    },
    {
     "name": "stdin",
     "output_type": "stream",
     "text": [
      " baba\n"
     ]
    },
    {
     "name": "stdout",
     "output_type": "stream",
     "text": [
      "'baba' is not a palindrome.\n"
     ]
    },
    {
     "name": "stdin",
     "output_type": "stream",
     "text": [
      " madam\n"
     ]
    },
    {
     "name": "stdout",
     "output_type": "stream",
     "text": [
      "'madam' is a palindrome.\n"
     ]
    },
    {
     "name": "stdin",
     "output_type": "stream",
     "text": [
      " ma\n",
      " exit\n"
     ]
    }
   ],
   "source": [
    "while True:\n",
    "    w = input()\n",
    "    if len(w) < 3:\n",
    "        continue \n",
    "    if w.lower() == 'exit':\n",
    "        break\n",
    "    if w == w[::-1]:\n",
    "        print(f\"'{w}' is a palindrome.\")\n",
    "    else:\n",
    "        print(f\"'{w}' is not a palindrome.\")"
   ]
  },
  {
   "cell_type": "markdown",
   "id": "ceb1f23e-fbb1-45e8-a8f7-0ae85caa17e0",
   "metadata": {},
   "source": [
    "98. Odd Number Finder: Write a Python program to find the first odd number from a list of integers. Use a `for` loop and `break` to stop the loop when the first odd number is found."
   ]
  },
  {
   "cell_type": "code",
   "execution_count": 102,
   "id": "8048d6c7-7c38-45bb-8689-ee8b17f761f2",
   "metadata": {},
   "outputs": [
    {
     "name": "stdout",
     "output_type": "stream",
     "text": [
      "11  is first odd number\n"
     ]
    }
   ],
   "source": [
    "li = [12,11,5,8,9,2,3,6,10]\n",
    "for i in li:\n",
    "    if i%2!=0:\n",
    "        print(i,' is first odd number')\n",
    "        break"
   ]
  },
  {
   "cell_type": "markdown",
   "id": "a6d23773-ecfe-45a2-a1e4-4f983ffdc06b",
   "metadata": {},
   "source": [
    "99. Number Guessing Game: Write a Python program that generates a random number between 1 and 100 and lets the user guess the number. Use a `while` loop, `break` when the correct number is guessed, and `continue` to keep prompting the user until they guess correctly."
   ]
  },
  {
   "cell_type": "code",
   "execution_count": 103,
   "id": "bace8359-0d13-40bf-ad58-5834e18a99c6",
   "metadata": {},
   "outputs": [
    {
     "name": "stdin",
     "output_type": "stream",
     "text": [
      "Type your guess:  3\n"
     ]
    },
    {
     "name": "stdout",
     "output_type": "stream",
     "text": [
      "Too low. Try again.\n"
     ]
    },
    {
     "name": "stdin",
     "output_type": "stream",
     "text": [
      "Type your guess:  5\n"
     ]
    },
    {
     "name": "stdout",
     "output_type": "stream",
     "text": [
      "Too low. Try again.\n"
     ]
    },
    {
     "name": "stdin",
     "output_type": "stream",
     "text": [
      "Type your guess:  6\n"
     ]
    },
    {
     "name": "stdout",
     "output_type": "stream",
     "text": [
      "Too low. Try again.\n"
     ]
    },
    {
     "name": "stdin",
     "output_type": "stream",
     "text": [
      "Type your guess:  12\n"
     ]
    },
    {
     "name": "stdout",
     "output_type": "stream",
     "text": [
      "Too low. Try again.\n"
     ]
    },
    {
     "name": "stdin",
     "output_type": "stream",
     "text": [
      "Type your guess:  56\n"
     ]
    },
    {
     "name": "stdout",
     "output_type": "stream",
     "text": [
      "Too high. Try again.\n"
     ]
    },
    {
     "name": "stdin",
     "output_type": "stream",
     "text": [
      "Type your guess:  83\n"
     ]
    },
    {
     "name": "stdout",
     "output_type": "stream",
     "text": [
      "Too high. Try again.\n"
     ]
    },
    {
     "name": "stdin",
     "output_type": "stream",
     "text": [
      "Type your guess:  19\n"
     ]
    },
    {
     "name": "stdout",
     "output_type": "stream",
     "text": [
      "Too low. Try again.\n"
     ]
    },
    {
     "name": "stdin",
     "output_type": "stream",
     "text": [
      "Type your guess:  45\n"
     ]
    },
    {
     "name": "stdout",
     "output_type": "stream",
     "text": [
      "Too high. Try again.\n"
     ]
    },
    {
     "name": "stdin",
     "output_type": "stream",
     "text": [
      "Type your guess:  34\n"
     ]
    },
    {
     "name": "stdout",
     "output_type": "stream",
     "text": [
      "Too high. Try again.\n"
     ]
    },
    {
     "name": "stdin",
     "output_type": "stream",
     "text": [
      "Type your guess:  23\n"
     ]
    },
    {
     "name": "stdout",
     "output_type": "stream",
     "text": [
      "Too high. Try again.\n"
     ]
    },
    {
     "name": "stdin",
     "output_type": "stream",
     "text": [
      "Type your guess:  21\n"
     ]
    },
    {
     "name": "stdout",
     "output_type": "stream",
     "text": [
      "Correct! You have guessed the number.\n"
     ]
    }
   ],
   "source": [
    "from random import randint\n",
    "rand = randint(1, 100)\n",
    "while True:\n",
    "    num = int(input(\"Type your guess: \"))\n",
    "    if num == rand:\n",
    "        print(\"Correct! You have guessed the number.\")\n",
    "        break\n",
    "    elif num < rand:\n",
    "        print(\"Too low. Try again.\")\n",
    "    else:\n",
    "        print(\"Too high. Try again.\")\n"
   ]
  },
  {
   "cell_type": "markdown",
   "id": "8eacfba9-ddce-4f52-8da5-a7ebc4a1ba46",
   "metadata": {},
   "source": [
    "100. Vowel Counter: Write a Python program that takes a string as input and counts the number of vowels (a, e, i, o, u) in it. Use a `for` loop and `continue` to skip counting non-vowel characters."
   ]
  },
  {
   "cell_type": "code",
   "execution_count": 104,
   "id": "15c6ddd8-d44d-4bda-92af-f3df75a11d30",
   "metadata": {},
   "outputs": [
    {
     "name": "stdin",
     "output_type": "stream",
     "text": [
      " madam\n"
     ]
    },
    {
     "name": "stdout",
     "output_type": "stream",
     "text": [
      "Number of vowels:  2\n"
     ]
    }
   ],
   "source": [
    "t = input()\n",
    "char_li = list(t)\n",
    "cnt = 0\n",
    "for i in char_li:\n",
    "    if i=='a' or i=='e' or i=='i' or i=='o' or i=='u' or i=='A' or i=='E' or i=='I' or i=='O' or i=='U':\n",
    "        cnt = cnt + 1\n",
    "    else:\n",
    "        continue\n",
    "print('Number of vowels: ',cnt)"
   ]
  },
  {
   "cell_type": "markdown",
   "id": "56765b0c-0c75-4962-87b1-ef71f2ef357b",
   "metadata": {},
   "source": [
    "101. Unique Characters: Write a Python program that takes a string as input and checks if it contains all unique characters (no character repeats). Use a `for` loop and `break` when a character repeats"
   ]
  },
  {
   "cell_type": "code",
   "execution_count": 105,
   "id": "934729b0-e474-4c00-89a4-cf75f9421a22",
   "metadata": {},
   "outputs": [
    {
     "name": "stdin",
     "output_type": "stream",
     "text": [
      " flower\n"
     ]
    },
    {
     "name": "stdout",
     "output_type": "stream",
     "text": [
      "The string contains all unique characters.\n"
     ]
    }
   ],
   "source": [
    "strng = input()\n",
    "characters = set()\n",
    "for i in strng:\n",
    "    if i in characters:\n",
    "        print(\"The string does not contain all unique characters.\")\n",
    "        break\n",
    "    characters.add(i)\n",
    "else:\n",
    "    print(\"The string contains all unique characters.\")"
   ]
  },
  {
   "cell_type": "markdown",
   "id": "b10ecc75-09d1-472b-afcb-060f182ddbe6",
   "metadata": {},
   "source": [
    "Functions Problems:\n",
    "\n",
    "102. Factorial Calculator: Write a Python function called `factorial` that takes an integer as input and returns its factorial. Test the function with different values."
   ]
  },
  {
   "cell_type": "code",
   "execution_count": 106,
   "id": "3c24f9f0-1ed1-4287-9d7f-b7de516e54ad",
   "metadata": {},
   "outputs": [
    {
     "name": "stdout",
     "output_type": "stream",
     "text": [
      "120\n",
      "6\n"
     ]
    }
   ],
   "source": [
    "def factorial(n):\n",
    "    if n < 1:\n",
    "        return 1\n",
    "    else:\n",
    "        return n * factorial(n - 1)\n",
    "print(factorial(5))\n",
    "print(factorial(3))"
   ]
  },
  {
   "cell_type": "markdown",
   "id": "a20d9b68-324e-43b4-bc10-5eef00617986",
   "metadata": {},
   "source": [
    "103. Palindrome Checker: Write a Python function called `is_palindrome` that takes a string as input and returns `True` if it is a palindrome and `False` otherwise. Test the function with different words."
   ]
  },
  {
   "cell_type": "code",
   "execution_count": 107,
   "id": "36d02c06-c140-4007-9bee-1578b838a466",
   "metadata": {},
   "outputs": [
    {
     "name": "stdout",
     "output_type": "stream",
     "text": [
      "True\n",
      "False\n",
      "True\n",
      "True\n"
     ]
    }
   ],
   "source": [
    "def is_palindrome(word):\n",
    "    word = word.lower()\n",
    "    x=word[::-1]\n",
    "    if x== word:\n",
    "        return True\n",
    "    else:\n",
    "        return False\n",
    "        \n",
    "print(is_palindrome(\"Racecar\")) \n",
    "print(is_palindrome(\"nothing\"))\n",
    "print(is_palindrome(\"bab\")) \n",
    "print(is_palindrome(\"BAAB\"))"
   ]
  },
  {
   "cell_type": "markdown",
   "id": "f4e18f85-e0a5-49d3-8064-d697056921b8",
   "metadata": {},
   "source": [
    "104. Even or Odd Checker: Write a Python function called `even_or_odd` that takes an integer as input and returns “Even” if the number is even and “Odd” if the number is odd. Test the function with different numbers."
   ]
  },
  {
   "cell_type": "code",
   "execution_count": 108,
   "id": "69b422c5-a53d-4fbf-b959-2b63076eb87d",
   "metadata": {},
   "outputs": [
    {
     "name": "stdout",
     "output_type": "stream",
     "text": [
      "Even\n",
      "Odd\n",
      "Even\n"
     ]
    }
   ],
   "source": [
    "def even_or_odd(num):\n",
    "    if num % 2 == 0:\n",
    "        return \"Even\"\n",
    "    else:\n",
    "        return \"Odd\"\n",
    "\n",
    "print(even_or_odd(4))   \n",
    "print(even_or_odd(51))\n",
    "print(even_or_odd(10)) "
   ]
  },
  {
   "cell_type": "markdown",
   "id": "e0b7b845-de5a-449f-a985-3571ca5d3ba3",
   "metadata": {},
   "source": [
    "105. List Sum Calculator: Write a Python function called `list_sum` that takes a list of integers as input and returns the sum of all elements in the list. Test the function with different lists."
   ]
  },
  {
   "cell_type": "code",
   "execution_count": 109,
   "id": "d5691c74-0559-4d2c-9c94-f6326de71dcc",
   "metadata": {},
   "outputs": [
    {
     "name": "stdout",
     "output_type": "stream",
     "text": [
      "37\n"
     ]
    }
   ],
   "source": [
    "def list_sum(n):\n",
    "    s = 0\n",
    "    for i in n:\n",
    "        s += i\n",
    "    return s\n",
    "n = [1,8,4,9,10,3,2]\n",
    "print(list_sum(n))"
   ]
  },
  {
   "cell_type": "markdown",
   "id": "3d9d10d5-8cfe-4c87-a184-e4cda69ce7b9",
   "metadata": {},
   "source": [
    "106. Greatest Common Divisor (GCD) Calculator: Write a Python function called `gcd` that takes two integers as input and returns their greatest common divisor. Test the function with different pairs of numbers."
   ]
  },
  {
   "cell_type": "code",
   "execution_count": 110,
   "id": "83f362ee-cb43-4cbd-85b6-3ea698d597be",
   "metadata": {},
   "outputs": [
    {
     "name": "stdout",
     "output_type": "stream",
     "text": [
      "6\n",
      "8\n"
     ]
    }
   ],
   "source": [
    "def gcd(a,b):\n",
    "    if(b == 0):\n",
    "        return a\n",
    "    else:\n",
    "        return gcd(b, a % b)\n",
    "print(gcd(6,24))\n",
    "print(gcd(24, 88))"
   ]
  },
  {
   "cell_type": "markdown",
   "id": "9f76d208-610c-4a08-8e78-ca4a0cb7a74c",
   "metadata": {},
   "source": [
    "107. Leap Year Checker: Write a Python function called `is_leap_year` that takes a year as input and returns `True` if it is a leap year and `False` otherwise. Test the function with different years."
   ]
  },
  {
   "cell_type": "code",
   "execution_count": 112,
   "id": "ddaf863b-1e35-464c-9c0c-db94fbd5b0c6",
   "metadata": {},
   "outputs": [
    {
     "name": "stdin",
     "output_type": "stream",
     "text": [
      " 2004\n"
     ]
    },
    {
     "name": "stdout",
     "output_type": "stream",
     "text": [
      "True\n"
     ]
    }
   ],
   "source": [
    "def is_leap_year(y):\n",
    "    if(y%4 == 0 and y% 100 != 0) or (y % 400 == 0):\n",
    "        return True\n",
    "    else:\n",
    "       return False\n",
    "        \n",
    "y = int(input())\n",
    "print(is_leap_year(y))"
   ]
  },
  {
   "cell_type": "markdown",
   "id": "5cea3530-0888-423c-b1a1-95dd994b093f",
   "metadata": {},
   "source": [
    "108. Math Operations: Write a Python function called `math_operations` that takes three numbers and a string representing an operation (‘add’, ‘subtract’, ‘multiply’, or ‘divide’). The function should return the result of the specified operation on the three numbers. Implement the math operations as nested functions."
   ]
  },
  {
   "cell_type": "code",
   "execution_count": 113,
   "id": "c3a2f425-de89-460f-a9e8-5cf3d29e91f4",
   "metadata": {},
   "outputs": [
    {
     "name": "stdin",
     "output_type": "stream",
     "text": [
      " 2\n",
      " 3\n",
      " 4\n",
      " add\n"
     ]
    },
    {
     "name": "stdout",
     "output_type": "stream",
     "text": [
      "9\n"
     ]
    }
   ],
   "source": [
    "def math_operation(a, b, c, op):\n",
    "    def addition(a, b, c):\n",
    "        return a + b + c\n",
    "        \n",
    "    def sbtraction(a, b, c):\n",
    "        return a - b - c\n",
    "        \n",
    "    def multiplication(a, b, c):\n",
    "        return a * b * c\n",
    "        \n",
    "    def division(a, b, c):\n",
    "        return a / b / c\n",
    "        \n",
    "    def error():\n",
    "        return \"Invalid operation\"\n",
    "        \n",
    "    op = op.lower()\n",
    "    \n",
    "    if op == 'add':\n",
    "        return addition(a, b, c)\n",
    "        \n",
    "    elif op == 'subtract':\n",
    "       return sbtraction(a, b, c)\n",
    "        \n",
    "    elif op == 'multiply':\n",
    "        return multiplication(a, b, c)\n",
    "        \n",
    "    elif op == 'divide':\n",
    "        return division(a, b, c)\n",
    "        \n",
    "    else:\n",
    "        return error()\n",
    "    \n",
    "x = int(input())\n",
    "y = int(input())\n",
    "z = int(input())\n",
    "op = input()\n",
    "print(math_operation(x,y,z,op))"
   ]
  },
  {
   "cell_type": "markdown",
   "id": "ab46abc0-3dcf-4838-9004-684eea768077",
   "metadata": {},
   "source": [
    "109. Greeting Generator: Write a Python function called `greeting_generator` that takes a name as input and returns a greeting message using nested functions. The greeting message should be customizable (e.g., “Hello, {name}! How are you today?”)."
   ]
  },
  {
   "cell_type": "code",
   "execution_count": 114,
   "id": "29f2547c-4b35-462a-89fa-ddc251dbc112",
   "metadata": {},
   "outputs": [
    {
     "name": "stdin",
     "output_type": "stream",
     "text": [
      " Rimu\n"
     ]
    },
    {
     "name": "stdout",
     "output_type": "stream",
     "text": [
      "Hello, Rimu! How are you today?\n"
     ]
    }
   ],
   "source": [
    "def greeting_generator(name):\n",
    "    def message():\n",
    "        return f\"Hello, {name}! How are you today?\"\n",
    "    \n",
    "    return message()\n",
    "\n",
    "name = input()\n",
    "print(greeting_generator(name))"
   ]
  },
  {
   "cell_type": "markdown",
   "id": "59844081-76f0-4595-8a9f-52a00921ff42",
   "metadata": {},
   "source": [
    "110. Temperature Converter: Write a Python function called `temperature_converter` that takes a temperature value and a string representing the scale (‘C’ for Celsius or ‘F’ for Fahrenheit) as input. The function should convert the temperature from one scale to the other using nested functions and return the converted value."
   ]
  },
  {
   "cell_type": "code",
   "execution_count": 115,
   "id": "eb373d59-790f-480b-89ad-13ff8f0de42c",
   "metadata": {},
   "outputs": [
    {
     "name": "stdout",
     "output_type": "stream",
     "text": [
      "176.0\n",
      "-1.1111111111111112\n"
     ]
    }
   ],
   "source": [
    "def temperature_converter(val, scale):\n",
    "    if scale.upper() == 'C':\n",
    "        return (val * 9/5) + 32\n",
    "    elif scale.upper() == 'F':\n",
    "        return (val - 32) * 5/9\n",
    "    else:\n",
    "        return \"Error\"\n",
    "        \n",
    "print(temperature_converter(80, 'C'))\n",
    "print(temperature_converter(30, 'F'))"
   ]
  },
  {
   "cell_type": "markdown",
   "id": "77a99bc5-5d93-4094-9033-7725a813cc71",
   "metadata": {},
   "source": [
    "111. Factorial Calculation: Write a recursive Python function called `factorial` that takes a non-negative integer as input and returns its factorial."
   ]
  },
  {
   "cell_type": "code",
   "execution_count": 116,
   "id": "e26caa8d-45ac-4726-9208-10f76e0b91e0",
   "metadata": {},
   "outputs": [
    {
     "name": "stdin",
     "output_type": "stream",
     "text": [
      " 5\n"
     ]
    },
    {
     "name": "stdout",
     "output_type": "stream",
     "text": [
      "120\n"
     ]
    }
   ],
   "source": [
    "def factorial(n):\n",
    "    if n == 0:\n",
    "        return 1\n",
    "    else:\n",
    "        return n * factorial(n - 1)\n",
    "n = int(input())\n",
    "print(factorial(n))"
   ]
  },
  {
   "cell_type": "markdown",
   "id": "9797f91b-257c-4ead-bab9-2551dd04bc58",
   "metadata": {},
   "source": [
    "112. Fibonacci Series: Write a recursive Python function called `Fibonacci` that takes an integer N as input and returns the Nth number in the Fibonacci series. The Fibonacci series is defined as follows: F(0) = 0, F(1) = 1, and F(n) = F(n-1) + F(n-2) for n > 1."
   ]
  },
  {
   "cell_type": "code",
   "execution_count": 117,
   "id": "e6a5739f-7d0b-47bd-a1bf-06d57e5f352b",
   "metadata": {},
   "outputs": [
    {
     "name": "stdin",
     "output_type": "stream",
     "text": [
      " 4\n"
     ]
    },
    {
     "name": "stdout",
     "output_type": "stream",
     "text": [
      "Fibonacci Series: 0 1 1 2 "
     ]
    }
   ],
   "source": [
    "def fibonacci(n):\n",
    "    if n<=1:\n",
    "        return n\n",
    "    else:\n",
    "        return fibonacci(n-1)+fibonacci(n-2)\n",
    "        \n",
    "x=int(input())\n",
    "if x<=0:\n",
    "    print(\"Please enter a Positive Number\")\n",
    "else:\n",
    "    print(\"Fibonacci Series:\", end=\" \")\n",
    "    for i in range(x):\n",
    "        print(fibonacci(i), end=\" \")"
   ]
  },
  {
   "cell_type": "markdown",
   "id": "a7272cf3-9a2f-4cd2-bdbb-6de8118025ab",
   "metadata": {},
   "source": [
    "113. The sum of Digits: Write a recursive Python function called `sum_of_digits` that takes an integer as input and returns the sum of its digits."
   ]
  },
  {
   "cell_type": "code",
   "execution_count": 118,
   "id": "ba8a7171-4f3f-40a7-9082-9e1ce2024167",
   "metadata": {},
   "outputs": [
    {
     "name": "stdin",
     "output_type": "stream",
     "text": [
      " 2345\n"
     ]
    },
    {
     "name": "stdout",
     "output_type": "stream",
     "text": [
      "Sum of digits: 14\n"
     ]
    }
   ],
   "source": [
    "def sum_of_digits(n):\n",
    "    if n == 0:\n",
    "        return 0\n",
    "    else:\n",
    "        return n % 10 + sum_of_digits(n // 10)\n",
    "        \n",
    "num = int(input())\n",
    "s = sum_of_digits(num)\n",
    "print(\"Sum of digits:\",s)"
   ]
  },
  {
   "cell_type": "markdown",
   "id": "6d5657b8-c648-4967-b14e-d04c3515f4ce",
   "metadata": {},
   "source": [
    "114. Binary Search: Write a recursive Python function called `binary_search` that takes a sorted list and a target value as input and returns the index of the target value in the list using binary search. If the target value is not in the list, return -1."
   ]
  },
  {
   "cell_type": "code",
   "execution_count": 119,
   "id": "64db9fba-f251-460e-b466-cc29c4c6a052",
   "metadata": {},
   "outputs": [
    {
     "name": "stdout",
     "output_type": "stream",
     "text": [
      "The given list is: [1, 24, 6, 7, 8, 9, 11, 12]\n",
      "Index of 11: 6\n"
     ]
    }
   ],
   "source": [
    "def binary_search(L, start, end, item):  \n",
    "    if end >= start:  \n",
    "        middle = (start + end) // 2  \n",
    "        if L[middle] == item:  \n",
    "            return middle \n",
    "        elif L[middle] > item:   \n",
    "            return binary_search(L, start, middle - 1, item)  \n",
    "        else:  \n",
    "            return binary_search(L, middle + 1, end, item)  \n",
    "    else:  \n",
    "        return -1  \n",
    "\n",
    "li = [1, 24, 6, 7, 8, 9, 11, 12]  \n",
    "search = 11  \n",
    "index = binary_search(li, 0, len(li) - 1, search)\n",
    "print(\"The given list is:\", li)\n",
    "print(f\"Index of {search}: {index}\")"
   ]
  },
  {
   "cell_type": "markdown",
   "id": "39d49984-694b-49e6-aeb2-55144dbd671c",
   "metadata": {},
   "source": [
    "115. Power Calculation: Write a recursive Python function called `power` that takes two positive integers, base and exponent, as input and returns the value of base raised to the exponent."
   ]
  },
  {
   "cell_type": "code",
   "execution_count": 120,
   "id": "17902454-82ab-4196-95c9-04ca0a2a1bcb",
   "metadata": {},
   "outputs": [
    {
     "name": "stdin",
     "output_type": "stream",
     "text": [
      " 2\n",
      " 3\n"
     ]
    },
    {
     "name": "stdout",
     "output_type": "stream",
     "text": [
      "8\n"
     ]
    }
   ],
   "source": [
    "def power(b, exp):\n",
    "    if exp != 0:\n",
    "        return b * power(b, exp - 1)\n",
    "    else:\n",
    "        return 1\n",
    "\n",
    "a = int(input())\n",
    "e = int(input())\n",
    "r = power(a, e)\n",
    "print(r)"
   ]
  }
 ],
 "metadata": {
  "kernelspec": {
   "display_name": "Python 3 (ipykernel)",
   "language": "python",
   "name": "python3"
  },
  "language_info": {
   "codemirror_mode": {
    "name": "ipython",
    "version": 3
   },
   "file_extension": ".py",
   "mimetype": "text/x-python",
   "name": "python",
   "nbconvert_exporter": "python",
   "pygments_lexer": "ipython3",
   "version": "3.12.4"
  }
 },
 "nbformat": 4,
 "nbformat_minor": 5
}
