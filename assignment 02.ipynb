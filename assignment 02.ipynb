{
 "cells": [
  {
   "cell_type": "markdown",
   "id": "97fff94f-1493-4f00-a3df-56ff05188999",
   "metadata": {},
   "source": [
    "Write a program that swaps the values of two variables"
   ]
  },
  {
   "cell_type": "code",
   "execution_count": 1,
   "id": "11c21d9c-a0b4-4238-8e45-56e4d56fd054",
   "metadata": {},
   "outputs": [
    {
     "name": "stdin",
     "output_type": "stream",
     "text": [
      " 5\n",
      " 7\n"
     ]
    },
    {
     "name": "stdout",
     "output_type": "stream",
     "text": [
      "(7, 5)\n"
     ]
    }
   ],
   "source": [
    "def swap(a,b):\n",
    "    return b,a\n",
    "x=int(input())\n",
    "y=int(input())\n",
    "res=swap(x,y)\n",
    "print(res)\n"
   ]
  },
  {
   "cell_type": "markdown",
   "id": "eadc9e0f-61b9-4b2c-ac40-cfca7e217140",
   "metadata": {},
   "source": [
    "Write a program that calculates the area of a rectangle given its length and width."
   ]
  },
  {
   "cell_type": "code",
   "execution_count": 3,
   "id": "92d51304-0692-4a2f-829f-595a5a1096db",
   "metadata": {},
   "outputs": [
    {
     "name": "stdout",
     "output_type": "stream",
     "text": [
      "50\n"
     ]
    }
   ],
   "source": [
    "len=5\n",
    "width=10\n",
    "print(len*width)"
   ]
  },
  {
   "cell_type": "markdown",
   "id": "7d15e615-1912-484f-95b4-6fa22ce2ee28",
   "metadata": {},
   "source": [
    "Write a program that converts temperature from Fahrenheit to Celsius."
   ]
  },
  {
   "cell_type": "code",
   "execution_count": 5,
   "id": "df023c3e-7af8-4823-b3de-b41715702888",
   "metadata": {},
   "outputs": [
    {
     "name": "stdin",
     "output_type": "stream",
     "text": [
      " 2\n"
     ]
    },
    {
     "name": "stdout",
     "output_type": "stream",
     "text": [
      "-16.667\n"
     ]
    }
   ],
   "source": [
    "f=float(input())\n",
    "c=(f-32)*5/9\n",
    "print(round(c,3))\n"
   ]
  },
  {
   "cell_type": "markdown",
   "id": "eca53222-1921-4676-a442-8559f5344dd1",
   "metadata": {},
   "source": [
    "Write a program that calculates the volume of a sphere given its radius."
   ]
  },
  {
   "cell_type": "code",
   "execution_count": 7,
   "id": "760a092a-fa76-49f4-88ab-a6c97fd4aeda",
   "metadata": {},
   "outputs": [
    {
     "name": "stdin",
     "output_type": "stream",
     "text": [
      " 12\n"
     ]
    },
    {
     "name": "stdout",
     "output_type": "stream",
     "text": [
      "7238.229473870882\n"
     ]
    }
   ],
   "source": [
    "import math\n",
    "r=float(input())\n",
    "v=4/3 * math.pi * r**3\n",
    "print(v)"
   ]
  },
  {
   "cell_type": "markdown",
   "id": "7c683b32-037b-4b9e-bea9-97b909e64d0d",
   "metadata": {},
   "source": [
    "5.Write a program that finds the average of three numbers."
   ]
  },
  {
   "cell_type": "code",
   "execution_count": 9,
   "id": "166e46c7-7936-4782-9bdc-924d959ab490",
   "metadata": {},
   "outputs": [
    {
     "name": "stdin",
     "output_type": "stream",
     "text": [
      " 3\n",
      " 3\n",
      " 3\n"
     ]
    },
    {
     "name": "stdout",
     "output_type": "stream",
     "text": [
      "3.0\n"
     ]
    }
   ],
   "source": [
    "x=int(input())\n",
    "y=int(input())\n",
    "z=int(input())\n",
    "avg=(x+y+z)/3\n",
    "print(avg)"
   ]
  },
  {
   "cell_type": "markdown",
   "id": "15fc667f-ab6a-4669-9ad7-46ff8792d418",
   "metadata": {},
   "source": [
    "6.\tWrite a program that determines if a number is even or odd"
   ]
  },
  {
   "cell_type": "code",
   "execution_count": 11,
   "id": "a6f0d289-4ecd-45ea-be50-02dd0bb53d99",
   "metadata": {},
   "outputs": [
    {
     "name": "stdin",
     "output_type": "stream",
     "text": [
      " 5\n"
     ]
    },
    {
     "name": "stdout",
     "output_type": "stream",
     "text": [
      "number is odd\n"
     ]
    }
   ],
   "source": [
    "n=int(input())\n",
    "if n%2==0:\n",
    "    print(\"number is even\")\n",
    "else:\n",
    "    print(\"number is odd\")"
   ]
  },
  {
   "cell_type": "markdown",
   "id": "b5fc19ea-fe7d-4a86-a455-e27458d4c00c",
   "metadata": {},
   "source": [
    "7.\tWrite a program that finds the maximum of three numbers."
   ]
  },
  {
   "cell_type": "code",
   "execution_count": 13,
   "id": "d58e7198-2095-4070-b77d-bfc8a258def1",
   "metadata": {},
   "outputs": [
    {
     "name": "stdin",
     "output_type": "stream",
     "text": [
      " 23\n",
      " 44\n",
      " 56\n"
     ]
    },
    {
     "name": "stdout",
     "output_type": "stream",
     "text": [
      "56\n"
     ]
    }
   ],
   "source": [
    "n1=int(input())\n",
    "n2=int(input())\n",
    "n3=int(input())\n",
    "\n",
    "if(n1>=n2) and (n1>=n3):\n",
    "    print(n1)\n",
    "elif(n2>=n1) and (n2>=n3):\n",
    "    print(n2)\n",
    "else:\n",
    "    print(n3)\n"
   ]
  },
  {
   "cell_type": "markdown",
   "id": "e4c3a838-0477-40d5-bed9-5c3b3426f058",
   "metadata": {},
   "source": [
    "8.\tWrite a program that determines if a year is a leap year or not.\n"
   ]
  },
  {
   "cell_type": "code",
   "execution_count": 15,
   "id": "f1c8c199-2b71-427b-bff7-07a0e330a73d",
   "metadata": {},
   "outputs": [
    {
     "name": "stdin",
     "output_type": "stream",
     "text": [
      " 2025\n"
     ]
    },
    {
     "name": "stdout",
     "output_type": "stream",
     "text": [
      "2025 is not a leap year\n"
     ]
    }
   ],
   "source": [
    "y=int(input())\n",
    "if(y%4==0 and y% 100!=0) or (y%400 == 0):\n",
    "    print(y,\" is a leap year\")\n",
    "else:\n",
    "    print(y,\"is not a leap year\")\n"
   ]
  },
  {
   "cell_type": "markdown",
   "id": "1550fcc6-6c28-474b-b8c9-a51073f30af2",
   "metadata": {},
   "source": [
    "9.\tWrite a program that determines if a number is positive, negative, or zero."
   ]
  },
  {
   "cell_type": "code",
   "execution_count": 17,
   "id": "8465a44c-2c34-4025-92c4-0ddc4146336e",
   "metadata": {},
   "outputs": [
    {
     "name": "stdin",
     "output_type": "stream",
     "text": [
      " -5\n"
     ]
    },
    {
     "name": "stdout",
     "output_type": "stream",
     "text": [
      "-5 is a negative number\n"
     ]
    }
   ],
   "source": [
    "num=int(input())\n",
    "if num>0:\n",
    "    print(num,\"is a positive number\")\n",
    "elif num<0:\n",
    "    print(num,\"is a negative number\")\n",
    "else:\n",
    "    print(num,\"is zero\")"
   ]
  },
  {
   "cell_type": "markdown",
   "id": "ad20bd5d-be3c-431f-abf6-c64b1e7b98fe",
   "metadata": {},
   "source": [
    "10.\tWrite a program that calculates the grade based on a given percentage."
   ]
  },
  {
   "cell_type": "code",
   "execution_count": 19,
   "id": "4a76f1e9-065d-4eb8-b2cd-37d485c4e6f9",
   "metadata": {},
   "outputs": [
    {
     "name": "stdin",
     "output_type": "stream",
     "text": [
      " 36\n"
     ]
    },
    {
     "name": "stdout",
     "output_type": "stream",
     "text": [
      "The grade is  F\n"
     ]
    }
   ],
   "source": [
    "p=float(input())\n",
    "if p>=90:\n",
    "    grade='A+'\n",
    "elif p>=80:\n",
    "    grade='A'\n",
    "elif p>=70:\n",
    "    grade='B'\n",
    "elif p>=60:\n",
    "    grade='C'\n",
    "elif p>=50:\n",
    "    grade='D'\n",
    "else:\n",
    "    grade='F'\n",
    "print(\"The grade is \",grade)\n"
   ]
  },
  {
   "cell_type": "markdown",
   "id": "e64451a0-0cd0-4b04-ac6f-67d48f6b8d9e",
   "metadata": {},
   "source": [
    "11.\tWrite a program that prints the first `n` natural numbers."
   ]
  },
  {
   "cell_type": "code",
   "execution_count": 21,
   "id": "9fd9d569-6d16-4cdb-9f38-efa47a1820dd",
   "metadata": {},
   "outputs": [
    {
     "name": "stdin",
     "output_type": "stream",
     "text": [
      " 12\n"
     ]
    },
    {
     "name": "stdout",
     "output_type": "stream",
     "text": [
      "1 2 3 4 5 6 7 8 9 10 11 12 "
     ]
    }
   ],
   "source": [
    "n=int(input())\n",
    "for i in range(1,n+1):\n",
    "    print(i,end=\" \")"
   ]
  },
  {
   "cell_type": "markdown",
   "id": "2a7acd9b-093b-4ecc-a813-bbb8457bc403",
   "metadata": {},
   "source": [
    "12.\tWrite a program that calculates the factorial of a number."
   ]
  },
  {
   "cell_type": "code",
   "execution_count": 23,
   "id": "1f3a7baf-dca6-46f5-bb9b-8a26eb4c5c32",
   "metadata": {},
   "outputs": [
    {
     "name": "stdin",
     "output_type": "stream",
     "text": [
      " 9\n"
     ]
    },
    {
     "name": "stdout",
     "output_type": "stream",
     "text": [
      "362880\n"
     ]
    }
   ],
   "source": [
    "def f(n):\n",
    "    if n==0:\n",
    "        return 1\n",
    "    else:\n",
    "        return n*f(n-1)\n",
    "num=int(input())\n",
    "res=f(num)\n",
    "print(res)\n"
   ]
  },
  {
   "cell_type": "markdown",
   "id": "3a716c5f-8d0a-441d-be6e-c50354107f84",
   "metadata": {},
   "source": [
    "13.\tWrite a program that generates a Fibonacci sequence of length `n`."
   ]
  },
  {
   "cell_type": "code",
   "execution_count": 25,
   "id": "fbe1ff11-d22f-422b-aefa-115ae19d32b7",
   "metadata": {},
   "outputs": [
    {
     "name": "stdin",
     "output_type": "stream",
     "text": [
      " 4\n"
     ]
    },
    {
     "name": "stdout",
     "output_type": "stream",
     "text": [
      "Fibonacci Series: 0 1 1 2 "
     ]
    }
   ],
   "source": [
    "def fibo(n):\n",
    "    if n<=1:\n",
    "        return n\n",
    "    else:\n",
    "        return fibo(n-1)+fibo(n-2)\n",
    "        \n",
    "x=int(input())\n",
    "if x<=0:\n",
    "    print(\"Please enter a Positive Number\")\n",
    "else:\n",
    "    print(\"Fibonacci Series:\", end=\" \")\n",
    "    for i in range(x):\n",
    "        print(fibo(i), end=\" \")"
   ]
  },
  {
   "cell_type": "markdown",
   "id": "1f22e626-b120-4459-8e93-753b54976193",
   "metadata": {},
   "source": [
    "14.\tWrite a program that checks if a given number is prime or not."
   ]
  },
  {
   "cell_type": "code",
   "execution_count": 27,
   "id": "98beb3ef-9bd3-4f0b-97c6-b92c09ee7429",
   "metadata": {},
   "outputs": [
    {
     "name": "stdin",
     "output_type": "stream",
     "text": [
      " 11\n"
     ]
    },
    {
     "name": "stdout",
     "output_type": "stream",
     "text": [
      "11 is a prime number\n"
     ]
    }
   ],
   "source": [
    "import math\n",
    "\n",
    "def prime(n):\n",
    "    if n<=1:\n",
    "        return False\n",
    "    for i in range(2, int(math.sqrt(n))+1):\n",
    "        if n%i==0:\n",
    "            return False\n",
    "    return True\n",
    "\n",
    "x=int(input())\n",
    "if prime(x):\n",
    "    print(f\"{x} is a prime number\")\n",
    "else:\n",
    "    print(f\"{x} is not a prime number\")\n",
    "\n"
   ]
  },
  {
   "cell_type": "markdown",
   "id": "bd1dc4fc-d583-4337-8910-fc719e909b51",
   "metadata": {},
   "source": [
    "15.\tWrite a program that prints the multiplication table of a given number."
   ]
  },
  {
   "cell_type": "code",
   "execution_count": 29,
   "id": "58653946-718c-4f56-a3a6-efad221c81b9",
   "metadata": {},
   "outputs": [
    {
     "name": "stdin",
     "output_type": "stream",
     "text": [
      " 2\n"
     ]
    },
    {
     "name": "stdout",
     "output_type": "stream",
     "text": [
      "2 x 1 = 2\n",
      "2 x 2 = 4\n",
      "2 x 3 = 6\n",
      "2 x 4 = 8\n",
      "2 x 5 = 10\n",
      "2 x 6 = 12\n",
      "2 x 7 = 14\n",
      "2 x 8 = 16\n",
      "2 x 9 = 18\n",
      "2 x 10 = 20\n"
     ]
    }
   ],
   "source": [
    "num=int(input())\n",
    "for i in range(1,11):\n",
    "    print(f\"{num} x {i} = {num * i}\")"
   ]
  },
  {
   "cell_type": "markdown",
   "id": "1866620d-0a92-4d7b-99be-537bc08bc225",
   "metadata": {},
   "source": [
    "16. Write a program that finds the sum of all even numbers between 1 and `n`"
   ]
  },
  {
   "cell_type": "code",
   "execution_count": 31,
   "id": "54e6e56e-326b-4856-bb60-cb2c6f35e3a1",
   "metadata": {},
   "outputs": [
    {
     "name": "stdin",
     "output_type": "stream",
     "text": [
      " 5\n"
     ]
    },
    {
     "name": "stdout",
     "output_type": "stream",
     "text": [
      "6\n"
     ]
    }
   ],
   "source": [
    "n=int(input())\n",
    "sum=0\n",
    "for i in range(n+1):\n",
    "    if i%2==0:\n",
    "       sum+=i\n",
    "print(sum)"
   ]
  },
  {
   "cell_type": "markdown",
   "id": "f6e8e711-d62d-4a01-8d1f-e5f0eab716b7",
   "metadata": {},
   "source": [
    "17. Write a program that reverses a given number"
   ]
  },
  {
   "cell_type": "code",
   "execution_count": 33,
   "id": "a2284ed9-9ce3-4c69-a191-eb51afe9dc66",
   "metadata": {},
   "outputs": [
    {
     "name": "stdin",
     "output_type": "stream",
     "text": [
      " 234\n"
     ]
    },
    {
     "name": "stdout",
     "output_type": "stream",
     "text": [
      "432\n"
     ]
    }
   ],
   "source": [
    "def rev(n):\n",
    "    rev=int(str(n)[::-1])\n",
    "    return rev\n",
    "x=int(input())\n",
    "print(rev(x))\n"
   ]
  },
  {
   "cell_type": "markdown",
   "id": "a7f3ca85-c786-44ef-b8e4-516befbfa9b5",
   "metadata": {},
   "source": [
    "18. Write a program that checks if a given string, is a palindrome."
   ]
  },
  {
   "cell_type": "code",
   "execution_count": 35,
   "id": "d306c217-ffcc-4938-93d1-1e38fba9e7ad",
   "metadata": {},
   "outputs": [
    {
     "name": "stdin",
     "output_type": "stream",
     "text": [
      " 232\n"
     ]
    },
    {
     "name": "stdout",
     "output_type": "stream",
     "text": [
      "Yes\n"
     ]
    }
   ],
   "source": [
    "def isP(s):\n",
    "    return x==x[::-1]\n",
    "    \n",
    "x=str(input())\n",
    "res= isP(x)\n",
    "if res:\n",
    "    print(\"Yes\")\n",
    "else:\n",
    "    print(\"No\")"
   ]
  },
  {
   "cell_type": "markdown",
   "id": "74b942b7-d965-4fdf-8611-12c9ce154a29",
   "metadata": {},
   "source": [
    "19. Write a program that generates a random number and allows the user to guess it."
   ]
  },
  {
   "cell_type": "code",
   "execution_count": 37,
   "id": "f187d63a-faf1-4be2-8f9d-d28a44324f01",
   "metadata": {},
   "outputs": [
    {
     "name": "stdin",
     "output_type": "stream",
     "text": [
      "Enter any number: 2\n"
     ]
    },
    {
     "name": "stdout",
     "output_type": "stream",
     "text": [
      "Too low!Try again\n"
     ]
    },
    {
     "name": "stdin",
     "output_type": "stream",
     "text": [
      "Enter number again: 6\n"
     ]
    },
    {
     "name": "stdout",
     "output_type": "stream",
     "text": [
      "Too high!Try again\n"
     ]
    },
    {
     "name": "stdin",
     "output_type": "stream",
     "text": [
      "Enter number again: 8\n"
     ]
    },
    {
     "name": "stdout",
     "output_type": "stream",
     "text": [
      "Too high!Try again\n"
     ]
    },
    {
     "name": "stdin",
     "output_type": "stream",
     "text": [
      "Enter number again: 1\n"
     ]
    },
    {
     "name": "stdout",
     "output_type": "stream",
     "text": [
      "Too low!Try again\n"
     ]
    },
    {
     "name": "stdin",
     "output_type": "stream",
     "text": [
      "Enter number again: 9\n"
     ]
    },
    {
     "name": "stdout",
     "output_type": "stream",
     "text": [
      "Too high!Try again\n"
     ]
    },
    {
     "name": "stdin",
     "output_type": "stream",
     "text": [
      "Enter number again: 4\n"
     ]
    },
    {
     "name": "stdout",
     "output_type": "stream",
     "text": [
      "Too high!Try again\n"
     ]
    },
    {
     "name": "stdin",
     "output_type": "stream",
     "text": [
      "Enter number again: 3\n"
     ]
    },
    {
     "name": "stdout",
     "output_type": "stream",
     "text": [
      "you guessed it right!\n"
     ]
    }
   ],
   "source": [
    "import random\n",
    "n=random.randrange(1,20)\n",
    "guess=int(input(\"Enter any number:\"))\n",
    "while n!=guess:\n",
    "    if guess<n:\n",
    "        print(\"Too low!Try again\")\n",
    "        guess=int(input(\"Enter number again:\"))\n",
    "    elif guess>n:\n",
    "        print(\"Too high!Try again\")\n",
    "        guess=int(input(\"Enter number again:\"))\n",
    "    else:\n",
    "      break\n",
    "print(\"you guessed it right!\")"
   ]
  },
  {
   "cell_type": "markdown",
   "id": "9c3c81d7-9eb1-4d28-b63f-99114acc5d90",
   "metadata": {},
   "source": [
    "20. Write a program that finds the greatest common divisor (GCD) of two numbers."
   ]
  },
  {
   "cell_type": "code",
   "execution_count": 39,
   "id": "801c3570-64ff-484c-8726-c960c4e6c932",
   "metadata": {},
   "outputs": [
    {
     "name": "stdin",
     "output_type": "stream",
     "text": [
      " 4\n",
      " 16\n"
     ]
    },
    {
     "name": "stdout",
     "output_type": "stream",
     "text": [
      "The GCD of 4 and 16 is 4.\n"
     ]
    }
   ],
   "source": [
    "def gcd(x,y):\n",
    "    while y!= 0:\n",
    "        x,y= y,x%y\n",
    "    return x\n",
    "\n",
    "a=int(input())\n",
    "b=int(input())\n",
    "print(f\"The GCD of {a} and {b} is {gcd(a,b)}.\")"
   ]
  },
  {
   "cell_type": "code",
   "execution_count": null,
   "id": "854fdf13-5c47-4015-b805-0ffdb285db5f",
   "metadata": {},
   "outputs": [],
   "source": []
  }
 ],
 "metadata": {
  "kernelspec": {
   "display_name": "Python 3 (ipykernel)",
   "language": "python",
   "name": "python3"
  },
  "language_info": {
   "codemirror_mode": {
    "name": "ipython",
    "version": 3
   },
   "file_extension": ".py",
   "mimetype": "text/x-python",
   "name": "python",
   "nbconvert_exporter": "python",
   "pygments_lexer": "ipython3",
   "version": "3.12.4"
  }
 },
 "nbformat": 4,
 "nbformat_minor": 5
}
